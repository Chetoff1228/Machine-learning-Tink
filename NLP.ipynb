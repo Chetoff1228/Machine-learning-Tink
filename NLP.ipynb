{
  "nbformat": 4,
  "nbformat_minor": 0,
  "metadata": {
    "colab": {
      "name": "CHETVERGOV_ANFREY_ML",
      "provenance": [],
      "collapsed_sections": [],
      "machine_shape": "hm"
    },
    "kernelspec": {
      "name": "python3",
      "display_name": "Python 3"
    },
    "accelerator": "GPU"
  },
  "cells": [
    {
      "cell_type": "code",
      "metadata": {
        "id": "wjurpt4KJmCh",
        "colab": {
          "base_uri": "https://localhost:8080/"
        },
        "outputId": "ba978e0d-d58b-458a-ffe9-aeadafd09577"
      },
      "source": [
        "!wget --no-check-certificate 'https://docs.google.com/uc?export=download&id=1OKFSv2GpuUFDphO0r8LdM7bl6MAWwBfX' -O data.csv"
      ],
      "execution_count": null,
      "outputs": [
        {
          "output_type": "stream",
          "name": "stdout",
          "text": [
            "--2021-12-12 20:48:02--  https://docs.google.com/uc?export=download&id=1OKFSv2GpuUFDphO0r8LdM7bl6MAWwBfX\n",
            "Resolving docs.google.com (docs.google.com)... 173.194.195.113, 173.194.195.102, 173.194.195.139, ...\n",
            "Connecting to docs.google.com (docs.google.com)|173.194.195.113|:443... connected.\n",
            "HTTP request sent, awaiting response... 302 Moved Temporarily\n",
            "Location: https://doc-04-ak-docs.googleusercontent.com/docs/securesc/ha0ro937gcuc7l7deffksulhg5h7mbp1/rh8krudu2o3g6avikao1v5rbt4sr7743/1639342050000/03856158561714992485/*/1OKFSv2GpuUFDphO0r8LdM7bl6MAWwBfX?e=download [following]\n",
            "Warning: wildcards not supported in HTTP.\n",
            "--2021-12-12 20:48:04--  https://doc-04-ak-docs.googleusercontent.com/docs/securesc/ha0ro937gcuc7l7deffksulhg5h7mbp1/rh8krudu2o3g6avikao1v5rbt4sr7743/1639342050000/03856158561714992485/*/1OKFSv2GpuUFDphO0r8LdM7bl6MAWwBfX?e=download\n",
            "Resolving doc-04-ak-docs.googleusercontent.com (doc-04-ak-docs.googleusercontent.com)... 142.250.125.132, 2607:f8b0:4001:c2f::84\n",
            "Connecting to doc-04-ak-docs.googleusercontent.com (doc-04-ak-docs.googleusercontent.com)|142.250.125.132|:443... connected.\n",
            "HTTP request sent, awaiting response... 200 OK\n",
            "Length: 33322228 (32M) [text/csv]\n",
            "Saving to: ‘data.csv’\n",
            "\n",
            "data.csv            100%[===================>]  31.78M   140MB/s    in 0.2s    \n",
            "\n",
            "2021-12-12 20:48:04 (140 MB/s) - ‘data.csv’ saved [33322228/33322228]\n",
            "\n"
          ]
        }
      ]
    },
    {
      "cell_type": "markdown",
      "metadata": {
        "id": "UBAI5LS2xBSm"
      },
      "source": [
        "В этой домашней работе вы будете предсказывать стоимость домов по их характеристикам.\n",
        "\n",
        "Метрика качества: `RMSE`\n",
        "\n",
        "Оценивание:\n",
        "* Baseline - 2 балла\n",
        "* Feature Engineering - 2 балла\n",
        "* Model Selection - 3 балла\n",
        "* Ensemble v.1 - 3 балла\n",
        "* (*) Ensemble v.2 - дополнительно, 2 балла"
      ]
    },
    {
      "cell_type": "markdown",
      "metadata": {
        "id": "aBZhr_dw6HAn"
      },
      "source": [
        "### Описание датасета\n",
        "\n",
        "Короткое описание данных:\n",
        "```\n",
        "price: sale price (this is the target variable)\n",
        "id: transaction id\n",
        "timestamp: date of transaction\n",
        "full_sq: total area in square meters, including loggias, balconies and other non-residential areas\n",
        "life_sq: living area in square meters, excluding loggias, balconies and other non-residential areas\n",
        "floor: for apartments, floor of the building\n",
        "max_floor: number of floors in the building\n",
        "material: wall material\n",
        "build_year: year built\n",
        "num_room: number of living rooms\n",
        "kitch_sq: kitchen area\n",
        "state: apartment condition\n",
        "product_type: owner-occupier purchase or investment\n",
        "sub_area: name of the district\n",
        "\n",
        "The dataset also includes a collection of features about each property's surrounding neighbourhood, and some features that are constant across each sub area (known as a Raion). Most of the feature names are self explanatory, with the following notes. See below for a complete list.\n",
        "\n",
        "full_all: subarea population\n",
        "male_f, female_f: subarea population by gender\n",
        "young_*: population younger than working age\n",
        "work_*: working-age population\n",
        "ekder_*: retirement-age population\n",
        "n_m_{all|male|female}: population between n and m years old\n",
        "build_count_*: buildings in the subarea by construction type or year\n",
        "x_count_500: the number of x within 500m of the property\n",
        "x_part_500: the share of x within 500m of the property\n",
        "_sqm_: square meters\n",
        "cafe_count_d_price_p: number of cafes within d meters of the property that have an average bill under p RUB\n",
        "trc_: shopping malls\n",
        "prom_: industrial zones\n",
        "green_: green zones\n",
        "metro_: subway\n",
        "_avto_: distances by car\n",
        "mkad_: Moscow Circle Auto Road\n",
        "ttk_: Third Transport Ring\n",
        "sadovoe_: Garden Ring\n",
        "bulvar_ring_: Boulevard Ring\n",
        "kremlin_: City center\n",
        "zd_vokzaly_: Train station\n",
        "oil_chemistry_: Dirty industry\n",
        "ts_: Power plant\n",
        "```"
      ]
    },
    {
      "cell_type": "markdown",
      "metadata": {
        "id": "TOPtM_06uyqv"
      },
      "source": [
        "### Setup"
      ]
    },
    {
      "cell_type": "code",
      "metadata": {
        "id": "9TpHMcn3u0MV"
      },
      "source": [
        "# импорт пакетов\n",
        "import pandas as pd\n",
        "import numpy as np"
      ],
      "execution_count": null,
      "outputs": []
    },
    {
      "cell_type": "code",
      "metadata": {
        "id": "-TLkVG3EwJzj"
      },
      "source": [
        "df = pd.read_csv(\"data.csv\", parse_dates=[\"timestamp\"])"
      ],
      "execution_count": null,
      "outputs": []
    },
    {
      "cell_type": "code",
      "source": [
        "df.head()"
      ],
      "metadata": {
        "colab": {
          "base_uri": "https://localhost:8080/",
          "height": 330
        },
        "id": "S4wvP7PdUaJh",
        "outputId": "999275ed-6624-4403-e5d7-1ba7818f8f79"
      },
      "execution_count": null,
      "outputs": [
        {
          "output_type": "execute_result",
          "data": {
            "text/html": [
              "<div>\n",
              "<style scoped>\n",
              "    .dataframe tbody tr th:only-of-type {\n",
              "        vertical-align: middle;\n",
              "    }\n",
              "\n",
              "    .dataframe tbody tr th {\n",
              "        vertical-align: top;\n",
              "    }\n",
              "\n",
              "    .dataframe thead th {\n",
              "        text-align: right;\n",
              "    }\n",
              "</style>\n",
              "<table border=\"1\" class=\"dataframe\">\n",
              "  <thead>\n",
              "    <tr style=\"text-align: right;\">\n",
              "      <th></th>\n",
              "      <th>id</th>\n",
              "      <th>timestamp</th>\n",
              "      <th>full_sq</th>\n",
              "      <th>life_sq</th>\n",
              "      <th>floor</th>\n",
              "      <th>max_floor</th>\n",
              "      <th>material</th>\n",
              "      <th>build_year</th>\n",
              "      <th>num_room</th>\n",
              "      <th>kitch_sq</th>\n",
              "      <th>state</th>\n",
              "      <th>product_type</th>\n",
              "      <th>sub_area</th>\n",
              "      <th>area_m</th>\n",
              "      <th>raion_popul</th>\n",
              "      <th>green_zone_part</th>\n",
              "      <th>indust_part</th>\n",
              "      <th>children_preschool</th>\n",
              "      <th>preschool_quota</th>\n",
              "      <th>preschool_education_centers_raion</th>\n",
              "      <th>children_school</th>\n",
              "      <th>school_quota</th>\n",
              "      <th>school_education_centers_raion</th>\n",
              "      <th>school_education_centers_top_20_raion</th>\n",
              "      <th>hospital_beds_raion</th>\n",
              "      <th>healthcare_centers_raion</th>\n",
              "      <th>university_top_20_raion</th>\n",
              "      <th>sport_objects_raion</th>\n",
              "      <th>additional_education_raion</th>\n",
              "      <th>culture_objects_top_25</th>\n",
              "      <th>culture_objects_top_25_raion</th>\n",
              "      <th>shopping_centers_raion</th>\n",
              "      <th>office_raion</th>\n",
              "      <th>thermal_power_plant_raion</th>\n",
              "      <th>incineration_raion</th>\n",
              "      <th>oil_chemistry_raion</th>\n",
              "      <th>radiation_raion</th>\n",
              "      <th>railroad_terminal_raion</th>\n",
              "      <th>big_market_raion</th>\n",
              "      <th>nuclear_reactor_raion</th>\n",
              "      <th>...</th>\n",
              "      <th>cafe_sum_3000_min_price_avg</th>\n",
              "      <th>cafe_sum_3000_max_price_avg</th>\n",
              "      <th>cafe_avg_price_3000</th>\n",
              "      <th>cafe_count_3000_na_price</th>\n",
              "      <th>cafe_count_3000_price_500</th>\n",
              "      <th>cafe_count_3000_price_1000</th>\n",
              "      <th>cafe_count_3000_price_1500</th>\n",
              "      <th>cafe_count_3000_price_2500</th>\n",
              "      <th>cafe_count_3000_price_4000</th>\n",
              "      <th>cafe_count_3000_price_high</th>\n",
              "      <th>big_church_count_3000</th>\n",
              "      <th>church_count_3000</th>\n",
              "      <th>mosque_count_3000</th>\n",
              "      <th>leisure_count_3000</th>\n",
              "      <th>sport_count_3000</th>\n",
              "      <th>market_count_3000</th>\n",
              "      <th>green_part_5000</th>\n",
              "      <th>prom_part_5000</th>\n",
              "      <th>office_count_5000</th>\n",
              "      <th>office_sqm_5000</th>\n",
              "      <th>trc_count_5000</th>\n",
              "      <th>trc_sqm_5000</th>\n",
              "      <th>cafe_count_5000</th>\n",
              "      <th>cafe_sum_5000_min_price_avg</th>\n",
              "      <th>cafe_sum_5000_max_price_avg</th>\n",
              "      <th>cafe_avg_price_5000</th>\n",
              "      <th>cafe_count_5000_na_price</th>\n",
              "      <th>cafe_count_5000_price_500</th>\n",
              "      <th>cafe_count_5000_price_1000</th>\n",
              "      <th>cafe_count_5000_price_1500</th>\n",
              "      <th>cafe_count_5000_price_2500</th>\n",
              "      <th>cafe_count_5000_price_4000</th>\n",
              "      <th>cafe_count_5000_price_high</th>\n",
              "      <th>big_church_count_5000</th>\n",
              "      <th>church_count_5000</th>\n",
              "      <th>mosque_count_5000</th>\n",
              "      <th>leisure_count_5000</th>\n",
              "      <th>sport_count_5000</th>\n",
              "      <th>market_count_5000</th>\n",
              "      <th>price</th>\n",
              "    </tr>\n",
              "  </thead>\n",
              "  <tbody>\n",
              "    <tr>\n",
              "      <th>0</th>\n",
              "      <td>0</td>\n",
              "      <td>2014-12-26</td>\n",
              "      <td>1</td>\n",
              "      <td>1.0</td>\n",
              "      <td>1.0</td>\n",
              "      <td>1.0</td>\n",
              "      <td>1.0</td>\n",
              "      <td>1.0</td>\n",
              "      <td>1.0</td>\n",
              "      <td>1.0</td>\n",
              "      <td>1.0</td>\n",
              "      <td>OwnerOccupier</td>\n",
              "      <td>Nagornoe</td>\n",
              "      <td>5.293465e+06</td>\n",
              "      <td>77878</td>\n",
              "      <td>0.023464</td>\n",
              "      <td>0.195781</td>\n",
              "      <td>4713</td>\n",
              "      <td>2279.0</td>\n",
              "      <td>4</td>\n",
              "      <td>5212</td>\n",
              "      <td>10027.0</td>\n",
              "      <td>8</td>\n",
              "      <td>1</td>\n",
              "      <td>NaN</td>\n",
              "      <td>3</td>\n",
              "      <td>0</td>\n",
              "      <td>2</td>\n",
              "      <td>2</td>\n",
              "      <td>no</td>\n",
              "      <td>0</td>\n",
              "      <td>2</td>\n",
              "      <td>6</td>\n",
              "      <td>no</td>\n",
              "      <td>no</td>\n",
              "      <td>no</td>\n",
              "      <td>no</td>\n",
              "      <td>no</td>\n",
              "      <td>no</td>\n",
              "      <td>no</td>\n",
              "      <td>...</td>\n",
              "      <td>705.32</td>\n",
              "      <td>1186.17</td>\n",
              "      <td>945.74</td>\n",
              "      <td>6</td>\n",
              "      <td>26</td>\n",
              "      <td>32</td>\n",
              "      <td>25</td>\n",
              "      <td>10</td>\n",
              "      <td>1</td>\n",
              "      <td>0</td>\n",
              "      <td>4</td>\n",
              "      <td>12</td>\n",
              "      <td>1</td>\n",
              "      <td>4</td>\n",
              "      <td>31</td>\n",
              "      <td>8</td>\n",
              "      <td>15.19</td>\n",
              "      <td>19.83</td>\n",
              "      <td>92</td>\n",
              "      <td>3478168</td>\n",
              "      <td>49</td>\n",
              "      <td>2235425</td>\n",
              "      <td>348</td>\n",
              "      <td>755.99</td>\n",
              "      <td>1263.47</td>\n",
              "      <td>1009.73</td>\n",
              "      <td>14</td>\n",
              "      <td>85</td>\n",
              "      <td>113</td>\n",
              "      <td>91</td>\n",
              "      <td>36</td>\n",
              "      <td>7</td>\n",
              "      <td>2</td>\n",
              "      <td>15</td>\n",
              "      <td>33</td>\n",
              "      <td>1</td>\n",
              "      <td>12</td>\n",
              "      <td>75</td>\n",
              "      <td>10</td>\n",
              "      <td>15318960</td>\n",
              "    </tr>\n",
              "    <tr>\n",
              "      <th>1</th>\n",
              "      <td>1</td>\n",
              "      <td>2012-10-04</td>\n",
              "      <td>64</td>\n",
              "      <td>64.0</td>\n",
              "      <td>16.0</td>\n",
              "      <td>NaN</td>\n",
              "      <td>NaN</td>\n",
              "      <td>NaN</td>\n",
              "      <td>NaN</td>\n",
              "      <td>NaN</td>\n",
              "      <td>NaN</td>\n",
              "      <td>OwnerOccupier</td>\n",
              "      <td>Poselenie Sosenskoe</td>\n",
              "      <td>6.677245e+07</td>\n",
              "      <td>9553</td>\n",
              "      <td>0.336177</td>\n",
              "      <td>0.072158</td>\n",
              "      <td>656</td>\n",
              "      <td>NaN</td>\n",
              "      <td>0</td>\n",
              "      <td>629</td>\n",
              "      <td>NaN</td>\n",
              "      <td>0</td>\n",
              "      <td>0</td>\n",
              "      <td>NaN</td>\n",
              "      <td>0</td>\n",
              "      <td>0</td>\n",
              "      <td>1</td>\n",
              "      <td>0</td>\n",
              "      <td>no</td>\n",
              "      <td>0</td>\n",
              "      <td>0</td>\n",
              "      <td>1</td>\n",
              "      <td>no</td>\n",
              "      <td>no</td>\n",
              "      <td>no</td>\n",
              "      <td>no</td>\n",
              "      <td>no</td>\n",
              "      <td>yes</td>\n",
              "      <td>no</td>\n",
              "      <td>...</td>\n",
              "      <td>1750.00</td>\n",
              "      <td>2875.00</td>\n",
              "      <td>2312.50</td>\n",
              "      <td>0</td>\n",
              "      <td>0</td>\n",
              "      <td>1</td>\n",
              "      <td>0</td>\n",
              "      <td>1</td>\n",
              "      <td>2</td>\n",
              "      <td>0</td>\n",
              "      <td>0</td>\n",
              "      <td>4</td>\n",
              "      <td>0</td>\n",
              "      <td>0</td>\n",
              "      <td>1</td>\n",
              "      <td>0</td>\n",
              "      <td>34.01</td>\n",
              "      <td>8.70</td>\n",
              "      <td>1</td>\n",
              "      <td>85159</td>\n",
              "      <td>1</td>\n",
              "      <td>189076</td>\n",
              "      <td>14</td>\n",
              "      <td>1108.33</td>\n",
              "      <td>1833.33</td>\n",
              "      <td>1470.83</td>\n",
              "      <td>2</td>\n",
              "      <td>1</td>\n",
              "      <td>4</td>\n",
              "      <td>3</td>\n",
              "      <td>2</td>\n",
              "      <td>2</td>\n",
              "      <td>0</td>\n",
              "      <td>0</td>\n",
              "      <td>13</td>\n",
              "      <td>1</td>\n",
              "      <td>0</td>\n",
              "      <td>6</td>\n",
              "      <td>1</td>\n",
              "      <td>6080000</td>\n",
              "    </tr>\n",
              "    <tr>\n",
              "      <th>2</th>\n",
              "      <td>2</td>\n",
              "      <td>2014-02-05</td>\n",
              "      <td>83</td>\n",
              "      <td>44.0</td>\n",
              "      <td>9.0</td>\n",
              "      <td>17.0</td>\n",
              "      <td>1.0</td>\n",
              "      <td>1985.0</td>\n",
              "      <td>3.0</td>\n",
              "      <td>10.0</td>\n",
              "      <td>3.0</td>\n",
              "      <td>Investment</td>\n",
              "      <td>Krylatskoe</td>\n",
              "      <td>1.216448e+07</td>\n",
              "      <td>78507</td>\n",
              "      <td>0.297166</td>\n",
              "      <td>0.000000</td>\n",
              "      <td>4611</td>\n",
              "      <td>3092.0</td>\n",
              "      <td>7</td>\n",
              "      <td>5067</td>\n",
              "      <td>7478.0</td>\n",
              "      <td>7</td>\n",
              "      <td>0</td>\n",
              "      <td>NaN</td>\n",
              "      <td>2</td>\n",
              "      <td>0</td>\n",
              "      <td>14</td>\n",
              "      <td>1</td>\n",
              "      <td>no</td>\n",
              "      <td>0</td>\n",
              "      <td>6</td>\n",
              "      <td>4</td>\n",
              "      <td>no</td>\n",
              "      <td>no</td>\n",
              "      <td>no</td>\n",
              "      <td>no</td>\n",
              "      <td>no</td>\n",
              "      <td>no</td>\n",
              "      <td>no</td>\n",
              "      <td>...</td>\n",
              "      <td>987.50</td>\n",
              "      <td>1645.83</td>\n",
              "      <td>1316.67</td>\n",
              "      <td>7</td>\n",
              "      <td>8</td>\n",
              "      <td>18</td>\n",
              "      <td>9</td>\n",
              "      <td>7</td>\n",
              "      <td>5</td>\n",
              "      <td>1</td>\n",
              "      <td>2</td>\n",
              "      <td>8</td>\n",
              "      <td>0</td>\n",
              "      <td>0</td>\n",
              "      <td>17</td>\n",
              "      <td>0</td>\n",
              "      <td>35.23</td>\n",
              "      <td>4.58</td>\n",
              "      <td>19</td>\n",
              "      <td>755824</td>\n",
              "      <td>19</td>\n",
              "      <td>1015107</td>\n",
              "      <td>95</td>\n",
              "      <td>923.26</td>\n",
              "      <td>1523.26</td>\n",
              "      <td>1223.26</td>\n",
              "      <td>9</td>\n",
              "      <td>18</td>\n",
              "      <td>25</td>\n",
              "      <td>23</td>\n",
              "      <td>13</td>\n",
              "      <td>6</td>\n",
              "      <td>1</td>\n",
              "      <td>8</td>\n",
              "      <td>18</td>\n",
              "      <td>0</td>\n",
              "      <td>1</td>\n",
              "      <td>52</td>\n",
              "      <td>0</td>\n",
              "      <td>17000000</td>\n",
              "    </tr>\n",
              "    <tr>\n",
              "      <th>3</th>\n",
              "      <td>3</td>\n",
              "      <td>2012-07-26</td>\n",
              "      <td>71</td>\n",
              "      <td>49.0</td>\n",
              "      <td>2.0</td>\n",
              "      <td>NaN</td>\n",
              "      <td>NaN</td>\n",
              "      <td>NaN</td>\n",
              "      <td>NaN</td>\n",
              "      <td>NaN</td>\n",
              "      <td>NaN</td>\n",
              "      <td>Investment</td>\n",
              "      <td>Matushkino</td>\n",
              "      <td>4.708040e+06</td>\n",
              "      <td>38075</td>\n",
              "      <td>0.271702</td>\n",
              "      <td>0.310199</td>\n",
              "      <td>2448</td>\n",
              "      <td>2080.0</td>\n",
              "      <td>3</td>\n",
              "      <td>2748</td>\n",
              "      <td>3885.0</td>\n",
              "      <td>4</td>\n",
              "      <td>0</td>\n",
              "      <td>NaN</td>\n",
              "      <td>0</td>\n",
              "      <td>0</td>\n",
              "      <td>0</td>\n",
              "      <td>0</td>\n",
              "      <td>no</td>\n",
              "      <td>0</td>\n",
              "      <td>0</td>\n",
              "      <td>1</td>\n",
              "      <td>no</td>\n",
              "      <td>no</td>\n",
              "      <td>no</td>\n",
              "      <td>no</td>\n",
              "      <td>no</td>\n",
              "      <td>no</td>\n",
              "      <td>no</td>\n",
              "      <td>...</td>\n",
              "      <td>500.00</td>\n",
              "      <td>850.00</td>\n",
              "      <td>675.00</td>\n",
              "      <td>0</td>\n",
              "      <td>5</td>\n",
              "      <td>3</td>\n",
              "      <td>2</td>\n",
              "      <td>0</td>\n",
              "      <td>0</td>\n",
              "      <td>0</td>\n",
              "      <td>1</td>\n",
              "      <td>2</td>\n",
              "      <td>0</td>\n",
              "      <td>1</td>\n",
              "      <td>4</td>\n",
              "      <td>1</td>\n",
              "      <td>20.84</td>\n",
              "      <td>7.28</td>\n",
              "      <td>3</td>\n",
              "      <td>51038</td>\n",
              "      <td>7</td>\n",
              "      <td>49700</td>\n",
              "      <td>14</td>\n",
              "      <td>507.14</td>\n",
              "      <td>857.14</td>\n",
              "      <td>682.14</td>\n",
              "      <td>0</td>\n",
              "      <td>7</td>\n",
              "      <td>4</td>\n",
              "      <td>3</td>\n",
              "      <td>0</td>\n",
              "      <td>0</td>\n",
              "      <td>0</td>\n",
              "      <td>1</td>\n",
              "      <td>3</td>\n",
              "      <td>0</td>\n",
              "      <td>2</td>\n",
              "      <td>8</td>\n",
              "      <td>2</td>\n",
              "      <td>990000</td>\n",
              "    </tr>\n",
              "    <tr>\n",
              "      <th>4</th>\n",
              "      <td>4</td>\n",
              "      <td>2014-10-29</td>\n",
              "      <td>60</td>\n",
              "      <td>42.0</td>\n",
              "      <td>9.0</td>\n",
              "      <td>9.0</td>\n",
              "      <td>1.0</td>\n",
              "      <td>1970.0</td>\n",
              "      <td>3.0</td>\n",
              "      <td>6.0</td>\n",
              "      <td>2.0</td>\n",
              "      <td>Investment</td>\n",
              "      <td>Gol'janovo</td>\n",
              "      <td>1.428699e+07</td>\n",
              "      <td>157010</td>\n",
              "      <td>0.389354</td>\n",
              "      <td>0.194489</td>\n",
              "      <td>7751</td>\n",
              "      <td>5041.0</td>\n",
              "      <td>6</td>\n",
              "      <td>8004</td>\n",
              "      <td>11081.0</td>\n",
              "      <td>7</td>\n",
              "      <td>0</td>\n",
              "      <td>125.0</td>\n",
              "      <td>3</td>\n",
              "      <td>0</td>\n",
              "      <td>5</td>\n",
              "      <td>3</td>\n",
              "      <td>no</td>\n",
              "      <td>0</td>\n",
              "      <td>5</td>\n",
              "      <td>3</td>\n",
              "      <td>no</td>\n",
              "      <td>no</td>\n",
              "      <td>no</td>\n",
              "      <td>yes</td>\n",
              "      <td>no</td>\n",
              "      <td>no</td>\n",
              "      <td>no</td>\n",
              "      <td>...</td>\n",
              "      <td>608.33</td>\n",
              "      <td>1020.83</td>\n",
              "      <td>814.58</td>\n",
              "      <td>2</td>\n",
              "      <td>7</td>\n",
              "      <td>9</td>\n",
              "      <td>8</td>\n",
              "      <td>0</td>\n",
              "      <td>0</td>\n",
              "      <td>0</td>\n",
              "      <td>3</td>\n",
              "      <td>3</td>\n",
              "      <td>0</td>\n",
              "      <td>0</td>\n",
              "      <td>13</td>\n",
              "      <td>2</td>\n",
              "      <td>36.40</td>\n",
              "      <td>9.08</td>\n",
              "      <td>11</td>\n",
              "      <td>300476</td>\n",
              "      <td>16</td>\n",
              "      <td>509176</td>\n",
              "      <td>54</td>\n",
              "      <td>656.00</td>\n",
              "      <td>1110.00</td>\n",
              "      <td>883.00</td>\n",
              "      <td>4</td>\n",
              "      <td>16</td>\n",
              "      <td>18</td>\n",
              "      <td>12</td>\n",
              "      <td>3</td>\n",
              "      <td>1</td>\n",
              "      <td>0</td>\n",
              "      <td>5</td>\n",
              "      <td>8</td>\n",
              "      <td>0</td>\n",
              "      <td>1</td>\n",
              "      <td>34</td>\n",
              "      <td>5</td>\n",
              "      <td>7900000</td>\n",
              "    </tr>\n",
              "  </tbody>\n",
              "</table>\n",
              "<p>5 rows × 292 columns</p>\n",
              "</div>"
            ],
            "text/plain": [
              "   id  timestamp  full_sq  ...  sport_count_5000  market_count_5000     price\n",
              "0   0 2014-12-26        1  ...                75                 10  15318960\n",
              "1   1 2012-10-04       64  ...                 6                  1   6080000\n",
              "2   2 2014-02-05       83  ...                52                  0  17000000\n",
              "3   3 2012-07-26       71  ...                 8                  2    990000\n",
              "4   4 2014-10-29       60  ...                34                  5   7900000\n",
              "\n",
              "[5 rows x 292 columns]"
            ]
          },
          "metadata": {},
          "execution_count": 4
        }
      ]
    },
    {
      "cell_type": "code",
      "source": [
        "df = df.drop('id',1)"
      ],
      "metadata": {
        "id": "KzStE8Letye0"
      },
      "execution_count": null,
      "outputs": []
    },
    {
      "cell_type": "code",
      "source": [
        "df.select_dtypes(include=['object']).isnull().sum().sum()"
      ],
      "metadata": {
        "colab": {
          "base_uri": "https://localhost:8080/"
        },
        "id": "PpkXWWOomENM",
        "outputId": "c62a15a4-28cf-46f3-ce43-df7c3ec36b69"
      },
      "execution_count": null,
      "outputs": [
        {
          "output_type": "execute_result",
          "data": {
            "text/plain": [
              "0"
            ]
          },
          "metadata": {},
          "execution_count": 6
        }
      ]
    },
    {
      "cell_type": "code",
      "source": [
        "numeric = df.select_dtypes(include=[np.number])\n",
        "numeric_cols = numeric.columns.values\n",
        " \n",
        "for col in numeric_cols:\n",
        "    missing = df[col].isnull()\n",
        "    num_missing = np.sum(missing)\n",
        "    \n",
        "    if num_missing > 0:  # only do the imputation for the columns that have missing values.\n",
        "        df['{}_ismissing'.format(col)] = missing\n",
        "        med = df[col].median()\n",
        "        df[col] = df[col].fillna(med)"
      ],
      "metadata": {
        "id": "O6SwcahPgCdU"
      },
      "execution_count": null,
      "outputs": []
    },
    {
      "cell_type": "markdown",
      "metadata": {
        "id": "znjwH9_mx3fZ"
      },
      "source": [
        "Разделите имеющиеся у вас данные на обучающую и тестовую выборки. В качестве обучающей выборки возьмите первые 80% данных, последние 20% - тестовая выборка."
      ]
    },
    {
      "cell_type": "code",
      "source": [
        "from sklearn.preprocessing import LabelEncoder\n",
        "def load_dataset(data):\n",
        "    X, y = data.drop('price',1), data.price\n",
        "\n",
        "    num_index = X.select_dtypes(include=[np.number]).keys()\n",
        "\n",
        "    objects = X.select_dtypes(include=['object']).keys()\n",
        "\n",
        "\n",
        "    lbl = LabelEncoder()\n",
        "\n",
        "    for col in objects:\n",
        "\n",
        "        lbl.fit(list(X[col].values)) \n",
        "        \n",
        "        X[col] = lbl.transform(list(X[col].values))\n",
        "    \n",
        "    return X, y, num_index"
      ],
      "metadata": {
        "id": "TyB3aCeRZJY4"
      },
      "execution_count": null,
      "outputs": []
    },
    {
      "cell_type": "code",
      "source": [
        "X, y, num_index = load_dataset(df.drop('timestamp',1))"
      ],
      "metadata": {
        "id": "eZ7NtB0Eu5pO"
      },
      "execution_count": null,
      "outputs": []
    },
    {
      "cell_type": "code",
      "metadata": {
        "id": "hwfNR565wMKN"
      },
      "source": [
        "from sklearn.model_selection import train_test_split\n",
        "X_train, X_test, y_train, y_test = train_test_split(X, y, test_size = 0.2, random_state = 1)"
      ],
      "execution_count": null,
      "outputs": []
    },
    {
      "cell_type": "markdown",
      "metadata": {
        "id": "oiOby6hNu92W"
      },
      "source": [
        "### Baseline (2 балла)\n",
        "\n",
        "В качестве Baseline обучите `DecisionTreeRegressor` из `sklearn`."
      ]
    },
    {
      "cell_type": "code",
      "source": [
        "from sklearn.preprocessing import StandardScaler\n",
        "scaler = StandardScaler()\n",
        "X_train[num_index] = scaler.fit_transform(X_train[num_index])"
      ],
      "metadata": {
        "id": "bKAfjkEMiB72"
      },
      "execution_count": null,
      "outputs": []
    },
    {
      "cell_type": "code",
      "metadata": {
        "id": "gJIDf3kn1Wfv"
      },
      "source": [
        "from sklearn.tree import DecisionTreeRegressor\n",
        "tree_model = DecisionTreeRegressor()\n",
        "tree_model = tree_model.fit(X_train,y_train)"
      ],
      "execution_count": null,
      "outputs": []
    },
    {
      "cell_type": "markdown",
      "metadata": {
        "id": "XUC7NFhw1X41"
      },
      "source": [
        "Проверьте качество на отложенной выборке."
      ]
    },
    {
      "cell_type": "code",
      "metadata": {
        "id": "O_LCiQIN1bzD",
        "colab": {
          "base_uri": "https://localhost:8080/"
        },
        "outputId": "6b6945fd-ca6d-44c5-cbc7-b226e9193855"
      },
      "source": [
        "from sklearn.metrics import mean_squared_error\n",
        "X_test[num_index] = scaler.transform(X_test[num_index])\n",
        "np.sqrt(mean_squared_error(y_test,tree_model.predict(X_test)))"
      ],
      "execution_count": null,
      "outputs": [
        {
          "output_type": "execute_result",
          "data": {
            "text/plain": [
              "3761435.302704087"
            ]
          },
          "metadata": {},
          "execution_count": 14
        }
      ]
    },
    {
      "cell_type": "markdown",
      "metadata": {
        "id": "3bezBBI7u_oF"
      },
      "source": [
        "### Feature Engineering (2 балла)\n",
        "\n",
        "Часто улучшить модель можно с помощью аккуратного Feature Engineering.\n",
        "\n",
        "Добавим в модель дополнительные признаки:\n",
        "* \"Как часто в этот год и этот месяц появлились объявления\"\n",
        "* \"Как часто в этот год и эту неделю появлялись объявления\""
      ]
    },
    {
      "cell_type": "code",
      "metadata": {
        "id": "_cJ6SBqUKC4C",
        "colab": {
          "base_uri": "https://localhost:8080/"
        },
        "outputId": "ffd9ac1b-4bad-4cf8-ae54-6fa20a218a88"
      },
      "source": [
        "month_year = (df.timestamp.dt.month + df.timestamp.dt.year * 100)\n",
        "\n",
        "month_year_cnt_map = month_year.value_counts().to_dict()\n",
        "\n",
        "df[\"month_year_cnt\"] = month_year.map(month_year_cnt_map)\n",
        "\n",
        "\n",
        "\n",
        "week_year = (df.timestamp.dt.weekofyear + df.timestamp.dt.year * 100)\n",
        "\n",
        "week_year_cnt_map = week_year.value_counts().to_dict()\n",
        "\n",
        "df[\"week_year_cnt\"] = week_year.map(week_year_cnt_map)"
      ],
      "execution_count": null,
      "outputs": [
        {
          "output_type": "stream",
          "name": "stderr",
          "text": [
            "/usr/local/lib/python3.7/dist-packages/ipykernel_launcher.py:9: FutureWarning: Series.dt.weekofyear and Series.dt.week have been deprecated.  Please use Series.dt.isocalendar().week instead.\n",
            "  if __name__ == '__main__':\n"
          ]
        }
      ]
    },
    {
      "cell_type": "markdown",
      "metadata": {
        "id": "pCajk45_KDSz"
      },
      "source": [
        "Добавьте следюущие дополнительные признаки:\n",
        "* Месяц (из колонки `timestamp`)\n",
        "* День недели (из колонки `timestamp`)\n",
        "* Отношение \"этаж / максимальный этаж в здании\" (колонки `floor` и `max_floor`)\n",
        "* Отношение \"площадь кухни / площадь квартиры\" (колонки `kitchen_sq` и `full_sq`)\n",
        "\n",
        "По желанию можно добавить и другие признаки."
      ]
    },
    {
      "cell_type": "code",
      "metadata": {
        "id": "dXZkoUL8Kve6"
      },
      "source": [
        "df['Month'] = df['timestamp'].map(lambda x: x.month)\n",
        "df['Weekday'] = df['timestamp'].map(lambda x: x.isoweekday())\n",
        "df['floor/max_floor'] = df['floor'] / df['max_floor']\n",
        "df['kitch_sq/full_sq'] = df['kitch_sq'] / df['full_sq']\n",
        "df.replace([np.inf], 1, inplace=True)\n",
        "df = df.fillna(1)"
      ],
      "execution_count": null,
      "outputs": []
    },
    {
      "cell_type": "markdown",
      "metadata": {
        "id": "_-jCowvWLiXZ"
      },
      "source": [
        "Разделите выборку на обучающую и тестовую еще раз (потому что дополнительные признаки созданы для исходной выборки)."
      ]
    },
    {
      "cell_type": "code",
      "metadata": {
        "id": "0f-vO3LcLhdf"
      },
      "source": [
        "X, y, num_index = load_dataset(df.drop('timestamp',1))\n",
        "X_train, X_test, y_train, y_test = train_test_split(X, y, test_size = 0.2, random_state = 1)\n",
        "scaler = StandardScaler()\n",
        "X_train[num_index] = scaler.fit_transform(X_train[num_index])"
      ],
      "execution_count": null,
      "outputs": []
    },
    {
      "cell_type": "code",
      "source": [
        "tree_model = DecisionTreeRegressor()\n",
        "tree_model = tree_model.fit(X_train,y_train)"
      ],
      "metadata": {
        "id": "SlvkspxyBA3A"
      },
      "execution_count": null,
      "outputs": []
    },
    {
      "cell_type": "code",
      "source": [
        "X_test[num_index] = scaler.transform(X_test[num_index])\n",
        "np.sqrt(mean_squared_error(y_test,tree_model.predict(X_test)))"
      ],
      "metadata": {
        "colab": {
          "base_uri": "https://localhost:8080/"
        },
        "id": "BjO0ecIRBDZW",
        "outputId": "e8f9cce0-cf9a-41f6-ccb6-2819ae88eb46"
      },
      "execution_count": null,
      "outputs": [
        {
          "output_type": "execute_result",
          "data": {
            "text/plain": [
              "3920645.25131966"
            ]
          },
          "metadata": {},
          "execution_count": 20
        }
      ]
    },
    {
      "cell_type": "markdown",
      "metadata": {
        "id": "CPtzkpFEvBw9"
      },
      "source": [
        "### Model Selection (3 балла)\n",
        "\n",
        "Посмотрите, какого качества можно добиться если использовать разные модели:\n",
        "* `DecisionTreeRegressor` из `sklearn`\n",
        "* `RandomForestRegressor` из `sklearn`\n",
        "* `CatBoostRegressor`\n",
        "\n",
        "Также вы можете попробовать линейные модели, другие бустинги (`LigthGBM` и `XGBoost`).\n",
        "\n",
        "Почти все библиотеки поддерживают удобный способ подбора гиперпараметров: посмотрите как это делать в [sklearn](https://scikit-learn.org/stable/modules/generated/sklearn.model_selection.GridSearchCV.html) или в [catboost](https://catboost.ai/docs/concepts/python-reference_catboostregressor_grid_search.html).\n",
        "\n",
        "Проверяйте качество каждой модели на тестовой выборке и выберите наилучшую."
      ]
    },
    {
      "cell_type": "code",
      "source": [
        "!pip install catboost"
      ],
      "metadata": {
        "colab": {
          "base_uri": "https://localhost:8080/"
        },
        "id": "36kohwDvbjo6",
        "outputId": "6b86a589-afdd-427c-a4d4-3812a70b70c7"
      },
      "execution_count": null,
      "outputs": [
        {
          "output_type": "stream",
          "name": "stdout",
          "text": [
            "Collecting catboost\n",
            "  Downloading catboost-1.0.3-cp37-none-manylinux1_x86_64.whl (76.3 MB)\n",
            "\u001b[K     |████████████████████████████████| 76.3 MB 1.3 MB/s \n",
            "\u001b[?25hRequirement already satisfied: plotly in /usr/local/lib/python3.7/dist-packages (from catboost) (4.4.1)\n",
            "Requirement already satisfied: matplotlib in /usr/local/lib/python3.7/dist-packages (from catboost) (3.2.2)\n",
            "Requirement already satisfied: six in /usr/local/lib/python3.7/dist-packages (from catboost) (1.15.0)\n",
            "Requirement already satisfied: scipy in /usr/local/lib/python3.7/dist-packages (from catboost) (1.4.1)\n",
            "Requirement already satisfied: pandas>=0.24.0 in /usr/local/lib/python3.7/dist-packages (from catboost) (1.1.5)\n",
            "Requirement already satisfied: graphviz in /usr/local/lib/python3.7/dist-packages (from catboost) (0.10.1)\n",
            "Requirement already satisfied: numpy>=1.16.0 in /usr/local/lib/python3.7/dist-packages (from catboost) (1.19.5)\n",
            "Requirement already satisfied: pytz>=2017.2 in /usr/local/lib/python3.7/dist-packages (from pandas>=0.24.0->catboost) (2018.9)\n",
            "Requirement already satisfied: python-dateutil>=2.7.3 in /usr/local/lib/python3.7/dist-packages (from pandas>=0.24.0->catboost) (2.8.2)\n",
            "Requirement already satisfied: cycler>=0.10 in /usr/local/lib/python3.7/dist-packages (from matplotlib->catboost) (0.11.0)\n",
            "Requirement already satisfied: kiwisolver>=1.0.1 in /usr/local/lib/python3.7/dist-packages (from matplotlib->catboost) (1.3.2)\n",
            "Requirement already satisfied: pyparsing!=2.0.4,!=2.1.2,!=2.1.6,>=2.0.1 in /usr/local/lib/python3.7/dist-packages (from matplotlib->catboost) (3.0.6)\n",
            "Requirement already satisfied: retrying>=1.3.3 in /usr/local/lib/python3.7/dist-packages (from plotly->catboost) (1.3.3)\n",
            "Installing collected packages: catboost\n",
            "Successfully installed catboost-1.0.3\n"
          ]
        }
      ]
    },
    {
      "cell_type": "code",
      "metadata": {
        "id": "PZstXx6uNRfE"
      },
      "source": [
        "from sklearn.ensemble import RandomForestRegressor\n",
        "from catboost import CatBoostRegressor\n",
        "from sklearn.model_selection import GridSearchCV"
      ],
      "execution_count": null,
      "outputs": []
    },
    {
      "cell_type": "markdown",
      "source": [
        "1.Решающие деревья"
      ],
      "metadata": {
        "id": "VTJKbYzSF8__"
      }
    },
    {
      "cell_type": "code",
      "source": [
        "param_grid = {\"max_depth\" : [1,3,9,11],\n",
        "           \"min_samples_leaf\":[1,5,9],\n",
        "           \"max_features\":[\"auto\",\"sqrt\"]}\n",
        "DTRgrid_search = GridSearchCV(estimator=DecisionTreeRegressor(), param_grid=param_grid, n_jobs=-1,\n",
        "                              scoring='neg_mean_squared_error')\n",
        "DTRgrid_result = DTRgrid_search.fit(X_train, y_train)\n",
        "print(DTRgrid_result.best_params_)"
      ],
      "metadata": {
        "colab": {
          "base_uri": "https://localhost:8080/"
        },
        "id": "dKFqgGp_FHTE",
        "outputId": "2a73cdf7-0b7d-4587-e711-8879df13597c"
      },
      "execution_count": null,
      "outputs": [
        {
          "output_type": "stream",
          "name": "stdout",
          "text": [
            "{'max_depth': 9, 'max_features': 'auto', 'min_samples_leaf': 9}\n"
          ]
        }
      ]
    },
    {
      "cell_type": "code",
      "source": [
        "tree_model_best= DTRgrid_result.best_estimator_\n",
        "\n",
        "tree_model_best.fit(X_train,y_train)\n",
        "\n",
        "np.sqrt(mean_squared_error(y_test,tree_model_best.predict(X_test)))"
      ],
      "metadata": {
        "colab": {
          "base_uri": "https://localhost:8080/"
        },
        "id": "ONpBeE3FJs6g",
        "outputId": "ad53b845-979a-4a36-e248-f6cac3519f31"
      },
      "execution_count": null,
      "outputs": [
        {
          "output_type": "execute_result",
          "data": {
            "text/plain": [
              "3291911.4518001904"
            ]
          },
          "metadata": {},
          "execution_count": 28
        }
      ]
    },
    {
      "cell_type": "markdown",
      "source": [
        "2. Cлучайный лес"
      ],
      "metadata": {
        "id": "LSx8fO98KCQ6"
      }
    },
    {
      "cell_type": "code",
      "source": [
        "param_grid = {'n_estimators': [25,215,300],\n",
        "              'max_depth': [2, 3], \n",
        "              'min_samples_split': [1, 2, 3]}\n",
        "\n",
        "\n",
        "RFRgrid_search = GridSearchCV(RandomForestRegressor(), param_grid=param_grid, n_jobs=-1,\n",
        "                              scoring='neg_root_mean_squared_error')\n",
        "\n",
        "\n",
        "RFRgrid_result = RFRgrid_search.fit(X_train, y_train)"
      ],
      "metadata": {
        "id": "uzTX1Dm0K6qb",
        "colab": {
          "base_uri": "https://localhost:8080/"
        },
        "outputId": "851eacc1-8c73-487e-971b-7647cf7f91dd"
      },
      "execution_count": null,
      "outputs": [
        {
          "output_type": "stream",
          "name": "stderr",
          "text": [
            "/usr/local/lib/python3.7/dist-packages/sklearn/model_selection/_validation.py:372: FitFailedWarning: \n",
            "30 fits failed out of a total of 90.\n",
            "The score on these train-test partitions for these parameters will be set to nan.\n",
            "If these failures are not expected, you can try to debug them by setting error_score='raise'.\n",
            "\n",
            "Below are more details about the failures:\n",
            "--------------------------------------------------------------------------------\n",
            "30 fits failed with the following error:\n",
            "Traceback (most recent call last):\n",
            "  File \"/usr/local/lib/python3.7/dist-packages/sklearn/model_selection/_validation.py\", line 681, in _fit_and_score\n",
            "    estimator.fit(X_train, y_train, **fit_params)\n",
            "  File \"/usr/local/lib/python3.7/dist-packages/sklearn/ensemble/_forest.py\", line 459, in fit\n",
            "    for i, t in enumerate(trees)\n",
            "  File \"/usr/local/lib/python3.7/dist-packages/joblib/parallel.py\", line 1043, in __call__\n",
            "    if self.dispatch_one_batch(iterator):\n",
            "  File \"/usr/local/lib/python3.7/dist-packages/joblib/parallel.py\", line 861, in dispatch_one_batch\n",
            "    self._dispatch(tasks)\n",
            "  File \"/usr/local/lib/python3.7/dist-packages/joblib/parallel.py\", line 779, in _dispatch\n",
            "    job = self._backend.apply_async(batch, callback=cb)\n",
            "  File \"/usr/local/lib/python3.7/dist-packages/joblib/_parallel_backends.py\", line 208, in apply_async\n",
            "    result = ImmediateResult(func)\n",
            "  File \"/usr/local/lib/python3.7/dist-packages/joblib/_parallel_backends.py\", line 572, in __init__\n",
            "    self.results = batch()\n",
            "  File \"/usr/local/lib/python3.7/dist-packages/joblib/parallel.py\", line 263, in __call__\n",
            "    for func, args, kwargs in self.items]\n",
            "  File \"/usr/local/lib/python3.7/dist-packages/joblib/parallel.py\", line 263, in <listcomp>\n",
            "    for func, args, kwargs in self.items]\n",
            "  File \"/usr/local/lib/python3.7/dist-packages/sklearn/utils/fixes.py\", line 211, in __call__\n",
            "    return self.function(*args, **kwargs)\n",
            "  File \"/usr/local/lib/python3.7/dist-packages/sklearn/ensemble/_forest.py\", line 185, in _parallel_build_trees\n",
            "    tree.fit(X, y, sample_weight=curr_sample_weight, check_input=False)\n",
            "  File \"/usr/local/lib/python3.7/dist-packages/sklearn/tree/_classes.py\", line 1320, in fit\n",
            "    X_idx_sorted=X_idx_sorted,\n",
            "  File \"/usr/local/lib/python3.7/dist-packages/sklearn/tree/_classes.py\", line 254, in fit\n",
            "    % self.min_samples_split\n",
            "ValueError: min_samples_split must be an integer greater than 1 or a float in (0.0, 1.0]; got the integer 1\n",
            "\n",
            "  warnings.warn(some_fits_failed_message, FitFailedWarning)\n",
            "/usr/local/lib/python3.7/dist-packages/sklearn/model_selection/_search.py:972: UserWarning: One or more of the test scores are non-finite: [              nan               nan               nan -3394163.68067108\n",
            " -3378419.63846006 -3382417.05759687 -3386208.2271283  -3382767.65650893\n",
            " -3384727.57454918               nan               nan               nan\n",
            " -3068170.94399031 -3052515.68682296 -3052560.37867928 -3084515.11438404\n",
            " -3054383.78452655 -3057011.11025152]\n",
            "  category=UserWarning,\n"
          ]
        }
      ]
    },
    {
      "cell_type": "code",
      "source": [
        "rf_model_best= RFRgrid_result.best_estimator_\n",
        "rf_model_best.fit(X_train,y_train)\n",
        "np.sqrt(mean_squared_error(y_test,rf_model_best.predict(X_test)))"
      ],
      "metadata": {
        "colab": {
          "base_uri": "https://localhost:8080/"
        },
        "id": "JzqooqBYLSD7",
        "outputId": "1a1c567b-cbb0-421f-d51b-049e5e11ccac"
      },
      "execution_count": null,
      "outputs": [
        {
          "output_type": "execute_result",
          "data": {
            "text/plain": [
              "3241212.572612183"
            ]
          },
          "metadata": {},
          "execution_count": 30
        }
      ]
    },
    {
      "cell_type": "markdown",
      "source": [
        "3. CatBoost(градиентный бустинг)"
      ],
      "metadata": {
        "id": "IjlPSkC-Lhep"
      }
    },
    {
      "cell_type": "code",
      "source": [
        "param_grid = {'depth' : [4,6,8],\n",
        "              'learning_rate' : [0.01, 0.05, 0.1],\n",
        "              'iterations'    : [10, 50, 100]\n",
        "              }\n",
        "\n",
        "CBRgrid_search = GridSearchCV(CatBoostRegressor(), param_grid=param_grid, n_jobs=-1,\n",
        "                              scoring='neg_root_mean_squared_error')\n",
        "CBRgrid_result = CBRgrid_search.fit(X_train, y_train)"
      ],
      "metadata": {
        "id": "GCAP3SXPKFe4",
        "colab": {
          "base_uri": "https://localhost:8080/"
        },
        "outputId": "c4d0f9f3-375e-434f-96e9-a52284605ecb"
      },
      "execution_count": null,
      "outputs": [
        {
          "output_type": "stream",
          "name": "stdout",
          "text": [
            "0:\tlearn: 4380206.8657556\ttotal: 124ms\tremaining: 12.2s\n",
            "1:\tlearn: 4181274.8740876\ttotal: 179ms\tremaining: 8.78s\n",
            "2:\tlearn: 3999908.3883089\ttotal: 240ms\tremaining: 7.76s\n",
            "3:\tlearn: 3830429.4484910\ttotal: 299ms\tremaining: 7.18s\n",
            "4:\tlearn: 3684937.6625245\ttotal: 365ms\tremaining: 6.94s\n",
            "5:\tlearn: 3556220.2413877\ttotal: 426ms\tremaining: 6.67s\n",
            "6:\tlearn: 3446945.1532014\ttotal: 492ms\tremaining: 6.53s\n",
            "7:\tlearn: 3348500.9788306\ttotal: 549ms\tremaining: 6.31s\n",
            "8:\tlearn: 3259990.5200659\ttotal: 624ms\tremaining: 6.31s\n",
            "9:\tlearn: 3183712.0888434\ttotal: 683ms\tremaining: 6.14s\n",
            "10:\tlearn: 3122499.6882390\ttotal: 739ms\tremaining: 5.98s\n",
            "11:\tlearn: 3064568.2192799\ttotal: 797ms\tremaining: 5.84s\n",
            "12:\tlearn: 3016389.2804521\ttotal: 860ms\tremaining: 5.75s\n",
            "13:\tlearn: 2964128.4511097\ttotal: 926ms\tremaining: 5.69s\n",
            "14:\tlearn: 2924127.6865273\ttotal: 991ms\tremaining: 5.61s\n",
            "15:\tlearn: 2889596.0333987\ttotal: 1.05s\tremaining: 5.53s\n",
            "16:\tlearn: 2858835.2295748\ttotal: 1.11s\tremaining: 5.44s\n",
            "17:\tlearn: 2825973.8974312\ttotal: 1.17s\tremaining: 5.35s\n",
            "18:\tlearn: 2794099.8320357\ttotal: 1.24s\tremaining: 5.28s\n",
            "19:\tlearn: 2767733.7989489\ttotal: 1.29s\tremaining: 5.17s\n",
            "20:\tlearn: 2741613.8927439\ttotal: 1.35s\tremaining: 5.09s\n",
            "21:\tlearn: 2719062.8316861\ttotal: 1.41s\tremaining: 4.99s\n",
            "22:\tlearn: 2698340.4223167\ttotal: 1.48s\tremaining: 4.94s\n",
            "23:\tlearn: 2674457.6762643\ttotal: 1.53s\tremaining: 4.84s\n",
            "24:\tlearn: 2659575.4759428\ttotal: 1.59s\tremaining: 4.77s\n",
            "25:\tlearn: 2638453.4205223\ttotal: 1.66s\tremaining: 4.72s\n",
            "26:\tlearn: 2624216.6776451\ttotal: 1.72s\tremaining: 4.64s\n",
            "27:\tlearn: 2608151.9193831\ttotal: 1.78s\tremaining: 4.57s\n",
            "28:\tlearn: 2593694.6048536\ttotal: 1.83s\tremaining: 4.49s\n",
            "29:\tlearn: 2577764.4713724\ttotal: 1.9s\tremaining: 4.43s\n",
            "30:\tlearn: 2563893.0082669\ttotal: 1.97s\tremaining: 4.38s\n",
            "31:\tlearn: 2546739.6733235\ttotal: 2.03s\tremaining: 4.32s\n",
            "32:\tlearn: 2535413.5271079\ttotal: 2.1s\tremaining: 4.26s\n",
            "33:\tlearn: 2524030.7840594\ttotal: 2.16s\tremaining: 4.2s\n",
            "34:\tlearn: 2513607.8858836\ttotal: 2.22s\tremaining: 4.13s\n",
            "35:\tlearn: 2504519.7961922\ttotal: 2.28s\tremaining: 4.05s\n",
            "36:\tlearn: 2495571.2405062\ttotal: 2.34s\tremaining: 3.98s\n",
            "37:\tlearn: 2488718.6276445\ttotal: 2.4s\tremaining: 3.91s\n",
            "38:\tlearn: 2482307.9023827\ttotal: 2.45s\tremaining: 3.84s\n",
            "39:\tlearn: 2473999.1179712\ttotal: 2.51s\tremaining: 3.77s\n",
            "40:\tlearn: 2462672.8277397\ttotal: 2.57s\tremaining: 3.7s\n",
            "41:\tlearn: 2454838.1000528\ttotal: 2.64s\tremaining: 3.65s\n",
            "42:\tlearn: 2448447.5753990\ttotal: 2.7s\tremaining: 3.58s\n",
            "43:\tlearn: 2441186.8011519\ttotal: 2.75s\tremaining: 3.5s\n",
            "44:\tlearn: 2437369.5893381\ttotal: 2.81s\tremaining: 3.44s\n",
            "45:\tlearn: 2430243.7192628\ttotal: 2.87s\tremaining: 3.37s\n",
            "46:\tlearn: 2424678.2469597\ttotal: 2.94s\tremaining: 3.31s\n",
            "47:\tlearn: 2419611.9515047\ttotal: 3s\tremaining: 3.25s\n",
            "48:\tlearn: 2415093.4708901\ttotal: 3.06s\tremaining: 3.18s\n",
            "49:\tlearn: 2412320.7784118\ttotal: 3.12s\tremaining: 3.12s\n",
            "50:\tlearn: 2405658.0281005\ttotal: 3.18s\tremaining: 3.06s\n",
            "51:\tlearn: 2400045.6781699\ttotal: 3.24s\tremaining: 2.99s\n",
            "52:\tlearn: 2395463.9465793\ttotal: 3.3s\tremaining: 2.93s\n",
            "53:\tlearn: 2391930.1544383\ttotal: 3.36s\tremaining: 2.86s\n",
            "54:\tlearn: 2386726.3529549\ttotal: 3.42s\tremaining: 2.8s\n",
            "55:\tlearn: 2377065.2468861\ttotal: 3.48s\tremaining: 2.73s\n",
            "56:\tlearn: 2373006.7284745\ttotal: 3.54s\tremaining: 2.67s\n",
            "57:\tlearn: 2365583.8912458\ttotal: 3.6s\tremaining: 2.61s\n",
            "58:\tlearn: 2358747.9982801\ttotal: 3.67s\tremaining: 2.55s\n",
            "59:\tlearn: 2350061.1039234\ttotal: 3.73s\tremaining: 2.49s\n",
            "60:\tlearn: 2346752.8715586\ttotal: 3.79s\tremaining: 2.42s\n",
            "61:\tlearn: 2344109.9338969\ttotal: 3.84s\tremaining: 2.35s\n",
            "62:\tlearn: 2341120.5411158\ttotal: 3.9s\tremaining: 2.29s\n",
            "63:\tlearn: 2339272.8084253\ttotal: 3.96s\tremaining: 2.23s\n",
            "64:\tlearn: 2336157.3945097\ttotal: 4.03s\tremaining: 2.17s\n",
            "65:\tlearn: 2332147.9869549\ttotal: 4.08s\tremaining: 2.1s\n",
            "66:\tlearn: 2328639.6299328\ttotal: 4.14s\tremaining: 2.04s\n",
            "67:\tlearn: 2326125.1390618\ttotal: 4.2s\tremaining: 1.98s\n",
            "68:\tlearn: 2322673.9540046\ttotal: 4.26s\tremaining: 1.91s\n",
            "69:\tlearn: 2317168.3271840\ttotal: 4.31s\tremaining: 1.85s\n",
            "70:\tlearn: 2314284.7411745\ttotal: 4.37s\tremaining: 1.78s\n",
            "71:\tlearn: 2308722.6185288\ttotal: 4.42s\tremaining: 1.72s\n",
            "72:\tlearn: 2306898.2155815\ttotal: 4.49s\tremaining: 1.66s\n",
            "73:\tlearn: 2303369.4711785\ttotal: 4.55s\tremaining: 1.6s\n",
            "74:\tlearn: 2302135.8637078\ttotal: 4.6s\tremaining: 1.53s\n",
            "75:\tlearn: 2298977.4626845\ttotal: 4.67s\tremaining: 1.47s\n",
            "76:\tlearn: 2294544.6030633\ttotal: 4.73s\tremaining: 1.41s\n",
            "77:\tlearn: 2291260.7334089\ttotal: 4.79s\tremaining: 1.35s\n",
            "78:\tlearn: 2288726.5997548\ttotal: 4.85s\tremaining: 1.29s\n",
            "79:\tlearn: 2286204.5462393\ttotal: 4.9s\tremaining: 1.23s\n",
            "80:\tlearn: 2281657.6416857\ttotal: 4.97s\tremaining: 1.17s\n",
            "81:\tlearn: 2279158.7399952\ttotal: 5.03s\tremaining: 1.1s\n",
            "82:\tlearn: 2276617.4206420\ttotal: 5.1s\tremaining: 1.04s\n",
            "83:\tlearn: 2272920.4140040\ttotal: 5.16s\tremaining: 983ms\n",
            "84:\tlearn: 2269924.0072219\ttotal: 5.22s\tremaining: 921ms\n",
            "85:\tlearn: 2267475.7604004\ttotal: 5.28s\tremaining: 859ms\n",
            "86:\tlearn: 2264797.7428376\ttotal: 5.33s\tremaining: 796ms\n",
            "87:\tlearn: 2262153.2587363\ttotal: 5.39s\tremaining: 735ms\n",
            "88:\tlearn: 2258582.7864297\ttotal: 5.45s\tremaining: 674ms\n",
            "89:\tlearn: 2256981.1489322\ttotal: 5.51s\tremaining: 612ms\n",
            "90:\tlearn: 2253831.4575433\ttotal: 5.56s\tremaining: 550ms\n",
            "91:\tlearn: 2251440.1835809\ttotal: 5.62s\tremaining: 489ms\n",
            "92:\tlearn: 2247729.0788562\ttotal: 5.69s\tremaining: 428ms\n",
            "93:\tlearn: 2245282.2265915\ttotal: 5.75s\tremaining: 367ms\n",
            "94:\tlearn: 2243756.3712397\ttotal: 5.8s\tremaining: 305ms\n",
            "95:\tlearn: 2241725.6198286\ttotal: 5.85s\tremaining: 244ms\n",
            "96:\tlearn: 2239703.3148595\ttotal: 5.92s\tremaining: 183ms\n",
            "97:\tlearn: 2237261.0165049\ttotal: 5.98s\tremaining: 122ms\n",
            "98:\tlearn: 2235288.1468573\ttotal: 6.05s\tremaining: 61.1ms\n",
            "99:\tlearn: 2233542.4502131\ttotal: 6.11s\tremaining: 0us\n"
          ]
        }
      ]
    },
    {
      "cell_type": "code",
      "source": [
        "CBR_model_best= CBRgrid_result.best_estimator_\n",
        "CBR_model_best.fit(X_train,y_train)\n",
        "np.sqrt(mean_squared_error(y_test,CBR_model_best.predict(X_test)))"
      ],
      "metadata": {
        "colab": {
          "base_uri": "https://localhost:8080/"
        },
        "id": "qIwnBI8ROa-b",
        "outputId": "a233f431-e4e5-48b2-e97e-e879db8c5d85"
      },
      "execution_count": null,
      "outputs": [
        {
          "output_type": "stream",
          "name": "stdout",
          "text": [
            "0:\tlearn: 4380206.8657556\ttotal: 76.1ms\tremaining: 7.54s\n",
            "1:\tlearn: 4181274.8740876\ttotal: 144ms\tremaining: 7.07s\n",
            "2:\tlearn: 3999908.3883089\ttotal: 212ms\tremaining: 6.85s\n",
            "3:\tlearn: 3830429.4484910\ttotal: 297ms\tremaining: 7.13s\n",
            "4:\tlearn: 3684937.6625245\ttotal: 360ms\tremaining: 6.83s\n",
            "5:\tlearn: 3556220.2413877\ttotal: 418ms\tremaining: 6.54s\n",
            "6:\tlearn: 3446945.1532014\ttotal: 482ms\tremaining: 6.4s\n",
            "7:\tlearn: 3348500.9788306\ttotal: 549ms\tremaining: 6.31s\n",
            "8:\tlearn: 3259990.5200659\ttotal: 615ms\tremaining: 6.21s\n",
            "9:\tlearn: 3183712.0888434\ttotal: 679ms\tremaining: 6.11s\n",
            "10:\tlearn: 3122499.6882390\ttotal: 744ms\tremaining: 6.02s\n",
            "11:\tlearn: 3064568.2192799\ttotal: 808ms\tremaining: 5.93s\n",
            "12:\tlearn: 3016389.2804521\ttotal: 869ms\tremaining: 5.81s\n",
            "13:\tlearn: 2964128.4511097\ttotal: 937ms\tremaining: 5.76s\n",
            "14:\tlearn: 2924127.6865273\ttotal: 1000ms\tremaining: 5.66s\n",
            "15:\tlearn: 2889596.0333987\ttotal: 1.06s\tremaining: 5.56s\n",
            "16:\tlearn: 2858835.2295748\ttotal: 1.12s\tremaining: 5.46s\n",
            "17:\tlearn: 2825973.8974312\ttotal: 1.18s\tremaining: 5.39s\n",
            "18:\tlearn: 2794099.8320357\ttotal: 1.25s\tremaining: 5.35s\n",
            "19:\tlearn: 2767733.7989489\ttotal: 1.31s\tremaining: 5.25s\n",
            "20:\tlearn: 2741613.8927439\ttotal: 1.37s\tremaining: 5.16s\n",
            "21:\tlearn: 2719062.8316861\ttotal: 1.43s\tremaining: 5.07s\n",
            "22:\tlearn: 2698340.4223167\ttotal: 1.49s\tremaining: 4.99s\n",
            "23:\tlearn: 2674457.6762643\ttotal: 1.56s\tremaining: 4.93s\n",
            "24:\tlearn: 2659575.4759428\ttotal: 1.62s\tremaining: 4.85s\n",
            "25:\tlearn: 2638453.4205223\ttotal: 1.68s\tremaining: 4.77s\n",
            "26:\tlearn: 2624216.6776451\ttotal: 1.74s\tremaining: 4.7s\n",
            "27:\tlearn: 2608151.9193831\ttotal: 1.8s\tremaining: 4.63s\n",
            "28:\tlearn: 2593694.6048536\ttotal: 1.86s\tremaining: 4.55s\n",
            "29:\tlearn: 2577764.4713724\ttotal: 1.92s\tremaining: 4.49s\n",
            "30:\tlearn: 2563893.0082669\ttotal: 2s\tremaining: 4.45s\n",
            "31:\tlearn: 2546739.6733235\ttotal: 2.06s\tremaining: 4.39s\n",
            "32:\tlearn: 2535413.5271079\ttotal: 2.13s\tremaining: 4.32s\n",
            "33:\tlearn: 2524030.7840594\ttotal: 2.2s\tremaining: 4.27s\n",
            "34:\tlearn: 2513607.8858836\ttotal: 2.26s\tremaining: 4.2s\n",
            "35:\tlearn: 2504519.7961922\ttotal: 2.32s\tremaining: 4.12s\n",
            "36:\tlearn: 2495571.2405062\ttotal: 2.38s\tremaining: 4.05s\n",
            "37:\tlearn: 2488718.6276445\ttotal: 2.44s\tremaining: 3.98s\n",
            "38:\tlearn: 2482307.9023827\ttotal: 2.5s\tremaining: 3.91s\n",
            "39:\tlearn: 2473999.1179712\ttotal: 2.57s\tremaining: 3.85s\n",
            "40:\tlearn: 2462672.8277397\ttotal: 2.63s\tremaining: 3.79s\n",
            "41:\tlearn: 2454838.1000528\ttotal: 2.69s\tremaining: 3.71s\n",
            "42:\tlearn: 2448447.5753990\ttotal: 2.75s\tremaining: 3.64s\n",
            "43:\tlearn: 2441186.8011519\ttotal: 2.81s\tremaining: 3.57s\n",
            "44:\tlearn: 2437369.5893381\ttotal: 2.87s\tremaining: 3.51s\n",
            "45:\tlearn: 2430243.7192628\ttotal: 2.93s\tremaining: 3.44s\n",
            "46:\tlearn: 2424678.2469597\ttotal: 3s\tremaining: 3.38s\n",
            "47:\tlearn: 2419611.9515047\ttotal: 3.05s\tremaining: 3.31s\n",
            "48:\tlearn: 2415093.4708901\ttotal: 3.12s\tremaining: 3.25s\n",
            "49:\tlearn: 2412320.7784118\ttotal: 3.18s\tremaining: 3.18s\n",
            "50:\tlearn: 2405658.0281005\ttotal: 3.24s\tremaining: 3.12s\n",
            "51:\tlearn: 2400045.6781699\ttotal: 3.31s\tremaining: 3.05s\n",
            "52:\tlearn: 2395463.9465793\ttotal: 3.37s\tremaining: 2.99s\n",
            "53:\tlearn: 2391930.1544383\ttotal: 3.42s\tremaining: 2.92s\n",
            "54:\tlearn: 2386726.3529549\ttotal: 3.48s\tremaining: 2.85s\n",
            "55:\tlearn: 2377065.2468861\ttotal: 3.55s\tremaining: 2.79s\n",
            "56:\tlearn: 2373006.7284745\ttotal: 3.61s\tremaining: 2.72s\n",
            "57:\tlearn: 2365583.8912458\ttotal: 3.67s\tremaining: 2.66s\n",
            "58:\tlearn: 2358747.9982801\ttotal: 3.73s\tremaining: 2.59s\n",
            "59:\tlearn: 2350061.1039234\ttotal: 3.79s\tremaining: 2.53s\n",
            "60:\tlearn: 2346752.8715586\ttotal: 3.85s\tremaining: 2.46s\n",
            "61:\tlearn: 2344109.9338969\ttotal: 3.9s\tremaining: 2.39s\n",
            "62:\tlearn: 2341120.5411158\ttotal: 3.96s\tremaining: 2.33s\n",
            "63:\tlearn: 2339272.8084253\ttotal: 4.03s\tremaining: 2.26s\n",
            "64:\tlearn: 2336157.3945097\ttotal: 4.09s\tremaining: 2.2s\n",
            "65:\tlearn: 2332147.9869549\ttotal: 4.15s\tremaining: 2.14s\n",
            "66:\tlearn: 2328639.6299328\ttotal: 4.21s\tremaining: 2.08s\n",
            "67:\tlearn: 2326125.1390618\ttotal: 4.28s\tremaining: 2.01s\n",
            "68:\tlearn: 2322673.9540046\ttotal: 4.33s\tremaining: 1.95s\n",
            "69:\tlearn: 2317168.3271840\ttotal: 4.39s\tremaining: 1.88s\n",
            "70:\tlearn: 2314284.7411745\ttotal: 4.45s\tremaining: 1.81s\n",
            "71:\tlearn: 2308722.6185288\ttotal: 4.51s\tremaining: 1.75s\n",
            "72:\tlearn: 2306898.2155815\ttotal: 4.57s\tremaining: 1.69s\n",
            "73:\tlearn: 2303369.4711785\ttotal: 4.63s\tremaining: 1.63s\n",
            "74:\tlearn: 2302135.8637078\ttotal: 4.68s\tremaining: 1.56s\n",
            "75:\tlearn: 2298977.4626845\ttotal: 4.74s\tremaining: 1.5s\n",
            "76:\tlearn: 2294544.6030633\ttotal: 4.8s\tremaining: 1.43s\n",
            "77:\tlearn: 2291260.7334089\ttotal: 4.86s\tremaining: 1.37s\n",
            "78:\tlearn: 2288726.5997548\ttotal: 4.91s\tremaining: 1.31s\n",
            "79:\tlearn: 2286204.5462393\ttotal: 4.97s\tremaining: 1.24s\n",
            "80:\tlearn: 2281657.6416857\ttotal: 5.04s\tremaining: 1.18s\n",
            "81:\tlearn: 2279158.7399952\ttotal: 5.1s\tremaining: 1.12s\n",
            "82:\tlearn: 2276617.4206420\ttotal: 5.16s\tremaining: 1.06s\n",
            "83:\tlearn: 2272920.4140040\ttotal: 5.23s\tremaining: 996ms\n",
            "84:\tlearn: 2269924.0072219\ttotal: 5.29s\tremaining: 933ms\n",
            "85:\tlearn: 2267475.7604004\ttotal: 5.35s\tremaining: 870ms\n",
            "86:\tlearn: 2264797.7428376\ttotal: 5.41s\tremaining: 808ms\n",
            "87:\tlearn: 2262153.2587363\ttotal: 5.47s\tremaining: 746ms\n",
            "88:\tlearn: 2258582.7864297\ttotal: 5.53s\tremaining: 683ms\n",
            "89:\tlearn: 2256981.1489322\ttotal: 5.59s\tremaining: 621ms\n",
            "90:\tlearn: 2253831.4575433\ttotal: 5.65s\tremaining: 558ms\n",
            "91:\tlearn: 2251440.1835809\ttotal: 5.71s\tremaining: 497ms\n",
            "92:\tlearn: 2247729.0788562\ttotal: 5.77s\tremaining: 434ms\n",
            "93:\tlearn: 2245282.2265915\ttotal: 5.83s\tremaining: 372ms\n",
            "94:\tlearn: 2243756.3712397\ttotal: 5.88s\tremaining: 309ms\n",
            "95:\tlearn: 2241725.6198286\ttotal: 5.94s\tremaining: 247ms\n",
            "96:\tlearn: 2239703.3148595\ttotal: 5.99s\tremaining: 185ms\n",
            "97:\tlearn: 2237261.0165049\ttotal: 6.06s\tremaining: 124ms\n",
            "98:\tlearn: 2235288.1468573\ttotal: 6.12s\tremaining: 61.9ms\n",
            "99:\tlearn: 2233542.4502131\ttotal: 6.18s\tremaining: 0us\n"
          ]
        },
        {
          "output_type": "execute_result",
          "data": {
            "text/plain": [
              "2795602.434957747"
            ]
          },
          "metadata": {},
          "execution_count": 32
        }
      ]
    },
    {
      "cell_type": "markdown",
      "source": [
        "Исходя из результатов можно прийти к выводу что градиентный бустинг лучше в данной ситуации\n"
      ],
      "metadata": {
        "id": "JyLH-9TIb7nw"
      }
    },
    {
      "cell_type": "markdown",
      "metadata": {
        "id": "JxQnozbtvD6x"
      },
      "source": [
        "### Ensemble v.1 (3 балла)\n",
        "\n",
        "Ансамбли иногда оказываются лучше чем одна большая модель.\n",
        "\n",
        "В колонке `product_type` содержится информация о том, каким является объявление: `Investment` (продажа квартиры как инвестиции) или `OwnerOccupier` (продажа квартиры для жилья). Логично предположить, что если сделать по модели на каждый из этих типов, то качество будет выше.\n",
        "\n",
        "Обучите свои лучшие модели на отдельно на `Investment` и `OwnerOccupier` (т.е. у вас будет `model_invest`, обученная на `(invest_train_X, invest_train_Y)` и `model_owner`, обученная на `(owner_train_X, owner_train_Y)`) и проверьте качество на отложенной выборке (т.е. на исходном `test_split`)."
      ]
    },
    {
      "cell_type": "code",
      "metadata": {
        "id": "HeJOCYa-O_VE"
      },
      "source": [
        "invest_train_X = X_train[X_train['product_type'] == 0]\n",
        "invest_train_Y = y_train[X_train['product_type'] == 0]\n",
        "owner_train_X = X_train[X_train['product_type'] == 1]\n",
        "owner_train_Y = y_train[X_train['product_type'] == 1]"
      ],
      "execution_count": null,
      "outputs": []
    },
    {
      "cell_type": "markdown",
      "source": [
        "1.Деревья"
      ],
      "metadata": {
        "id": "xuw0gJxOgebu"
      }
    },
    {
      "cell_type": "code",
      "source": [
        "model_invest= DTRgrid_result.best_estimator_\n",
        "model_invest.fit(invest_train_X,invest_train_Y)\n",
        "np.sqrt(mean_squared_error(y_test,model_invest.predict(X_test)))"
      ],
      "metadata": {
        "colab": {
          "base_uri": "https://localhost:8080/"
        },
        "id": "PTG3gxgbfx1d",
        "outputId": "9a0823b7-e661-45be-bdc5-ba82c652fdb1"
      },
      "execution_count": null,
      "outputs": [
        {
          "output_type": "execute_result",
          "data": {
            "text/plain": [
              "3519205.95660484"
            ]
          },
          "metadata": {},
          "execution_count": 34
        }
      ]
    },
    {
      "cell_type": "code",
      "source": [
        "model_owner= DTRgrid_result.best_estimator_\n",
        "model_owner.fit(owner_train_X,owner_train_Y)\n",
        "np.sqrt(mean_squared_error(y_test,model_owner.predict(X_test)))"
      ],
      "metadata": {
        "colab": {
          "base_uri": "https://localhost:8080/"
        },
        "id": "JIwrGoSQgoab",
        "outputId": "eae93b01-e794-42f7-bef3-b076c8fd1994"
      },
      "execution_count": null,
      "outputs": [
        {
          "output_type": "execute_result",
          "data": {
            "text/plain": [
              "3938674.502219069"
            ]
          },
          "metadata": {},
          "execution_count": 35
        }
      ]
    },
    {
      "cell_type": "markdown",
      "source": [
        "2. Случайный лес"
      ],
      "metadata": {
        "id": "yasRx2S2hSO9"
      }
    },
    {
      "cell_type": "code",
      "source": [
        "model_invest= RFRgrid_result.best_estimator_\n",
        "model_invest.fit(invest_train_X,invest_train_Y)\n",
        "np.sqrt(mean_squared_error(y_test,model_invest.predict(X_test)))"
      ],
      "metadata": {
        "colab": {
          "base_uri": "https://localhost:8080/"
        },
        "id": "EIK2FHtjhUTv",
        "outputId": "491e63d1-e718-485d-ab7c-84150425b4e1"
      },
      "execution_count": null,
      "outputs": [
        {
          "output_type": "execute_result",
          "data": {
            "text/plain": [
              "3496365.3169175065"
            ]
          },
          "metadata": {},
          "execution_count": 36
        }
      ]
    },
    {
      "cell_type": "code",
      "source": [
        "model_owner= RFRgrid_result.best_estimator_\n",
        "model_owner.fit(owner_train_X,owner_train_Y)\n",
        "np.sqrt(mean_squared_error(y_test,model_owner.predict(X_test)))"
      ],
      "metadata": {
        "colab": {
          "base_uri": "https://localhost:8080/"
        },
        "id": "o7u8vVwahbJf",
        "outputId": "57db2280-d468-4a80-c163-8893f9dc0e5e"
      },
      "execution_count": null,
      "outputs": [
        {
          "output_type": "execute_result",
          "data": {
            "text/plain": [
              "3425625.885746399"
            ]
          },
          "metadata": {},
          "execution_count": 37
        }
      ]
    },
    {
      "cell_type": "markdown",
      "source": [
        "3. Градиентный бустинг"
      ],
      "metadata": {
        "id": "nMabVouWhy1d"
      }
    },
    {
      "cell_type": "code",
      "source": [
        "model_invest= CBRgrid_result.best_estimator_\n",
        "model_invest.fit(invest_train_X,invest_train_Y)\n",
        "np.sqrt(mean_squared_error(y_test,model_invest.predict(X_test)))"
      ],
      "metadata": {
        "colab": {
          "base_uri": "https://localhost:8080/"
        },
        "id": "y2gIPzhJh1hV",
        "outputId": "8e7a458e-6140-49f0-e9ff-45a61ccb97a4"
      },
      "execution_count": null,
      "outputs": [
        {
          "output_type": "stream",
          "name": "stdout",
          "text": [
            "0:\tlearn: 4592843.6926204\ttotal: 64ms\tremaining: 6.33s\n",
            "1:\tlearn: 4389383.1133418\ttotal: 117ms\tremaining: 5.71s\n",
            "2:\tlearn: 4216110.8322277\ttotal: 173ms\tremaining: 5.58s\n",
            "3:\tlearn: 4070230.7733148\ttotal: 224ms\tremaining: 5.38s\n",
            "4:\tlearn: 3932771.0413351\ttotal: 292ms\tremaining: 5.55s\n",
            "5:\tlearn: 3809054.4479512\ttotal: 351ms\tremaining: 5.5s\n",
            "6:\tlearn: 3704032.9550633\ttotal: 410ms\tremaining: 5.44s\n",
            "7:\tlearn: 3608635.3034950\ttotal: 476ms\tremaining: 5.47s\n",
            "8:\tlearn: 3525940.3663508\ttotal: 532ms\tremaining: 5.38s\n",
            "9:\tlearn: 3447524.3540554\ttotal: 585ms\tremaining: 5.27s\n",
            "10:\tlearn: 3390397.5915226\ttotal: 643ms\tremaining: 5.21s\n",
            "11:\tlearn: 3334265.6588963\ttotal: 698ms\tremaining: 5.12s\n",
            "12:\tlearn: 3277597.4407007\ttotal: 764ms\tremaining: 5.12s\n",
            "13:\tlearn: 3222971.5053091\ttotal: 814ms\tremaining: 5s\n",
            "14:\tlearn: 3183557.8262544\ttotal: 865ms\tremaining: 4.9s\n",
            "15:\tlearn: 3146993.2989674\ttotal: 920ms\tremaining: 4.83s\n",
            "16:\tlearn: 3111287.1547121\ttotal: 978ms\tremaining: 4.77s\n",
            "17:\tlearn: 3080631.7374124\ttotal: 1.03s\tremaining: 4.69s\n",
            "18:\tlearn: 3050260.5738893\ttotal: 1.08s\tremaining: 4.62s\n",
            "19:\tlearn: 3023165.2611033\ttotal: 1.14s\tremaining: 4.56s\n",
            "20:\tlearn: 2997510.5516081\ttotal: 1.2s\tremaining: 4.51s\n",
            "21:\tlearn: 2979283.3778128\ttotal: 1.26s\tremaining: 4.46s\n",
            "22:\tlearn: 2959369.1231838\ttotal: 1.31s\tremaining: 4.4s\n",
            "23:\tlearn: 2938230.6835126\ttotal: 1.37s\tremaining: 4.35s\n",
            "24:\tlearn: 2920587.0748241\ttotal: 1.43s\tremaining: 4.3s\n",
            "25:\tlearn: 2907016.2199210\ttotal: 1.49s\tremaining: 4.24s\n",
            "26:\tlearn: 2893320.7622039\ttotal: 1.54s\tremaining: 4.17s\n",
            "27:\tlearn: 2880246.6994142\ttotal: 1.6s\tremaining: 4.11s\n",
            "28:\tlearn: 2868839.6990872\ttotal: 1.66s\tremaining: 4.07s\n",
            "29:\tlearn: 2858319.4575359\ttotal: 1.72s\tremaining: 4.01s\n",
            "30:\tlearn: 2848302.8264507\ttotal: 1.78s\tremaining: 3.96s\n",
            "31:\tlearn: 2838372.2334393\ttotal: 1.83s\tremaining: 3.9s\n",
            "32:\tlearn: 2826279.1967075\ttotal: 1.89s\tremaining: 3.84s\n",
            "33:\tlearn: 2816689.1943155\ttotal: 1.94s\tremaining: 3.77s\n",
            "34:\tlearn: 2805026.6854171\ttotal: 2s\tremaining: 3.72s\n",
            "35:\tlearn: 2793003.7925729\ttotal: 2.05s\tremaining: 3.65s\n",
            "36:\tlearn: 2785344.6816003\ttotal: 2.12s\tremaining: 3.6s\n",
            "37:\tlearn: 2778212.6644514\ttotal: 2.17s\tremaining: 3.54s\n",
            "38:\tlearn: 2768409.2226878\ttotal: 2.22s\tremaining: 3.47s\n",
            "39:\tlearn: 2760149.7731115\ttotal: 2.27s\tremaining: 3.41s\n",
            "40:\tlearn: 2753060.6835061\ttotal: 2.33s\tremaining: 3.36s\n",
            "41:\tlearn: 2745048.2647651\ttotal: 2.39s\tremaining: 3.31s\n",
            "42:\tlearn: 2738953.5612322\ttotal: 2.45s\tremaining: 3.25s\n",
            "43:\tlearn: 2732223.3802347\ttotal: 2.51s\tremaining: 3.19s\n",
            "44:\tlearn: 2725272.2105293\ttotal: 2.56s\tremaining: 3.13s\n",
            "45:\tlearn: 2720298.7104359\ttotal: 2.61s\tremaining: 3.07s\n",
            "46:\tlearn: 2712319.6867211\ttotal: 2.67s\tremaining: 3.01s\n",
            "47:\tlearn: 2708526.8386270\ttotal: 2.73s\tremaining: 2.96s\n",
            "48:\tlearn: 2701278.0044702\ttotal: 2.79s\tremaining: 2.9s\n",
            "49:\tlearn: 2698402.5580141\ttotal: 2.84s\tremaining: 2.84s\n",
            "50:\tlearn: 2691966.3534318\ttotal: 2.89s\tremaining: 2.78s\n",
            "51:\tlearn: 2685253.4003651\ttotal: 2.94s\tremaining: 2.72s\n",
            "52:\tlearn: 2679017.1455367\ttotal: 3s\tremaining: 2.66s\n",
            "53:\tlearn: 2674077.7353173\ttotal: 3.05s\tremaining: 2.6s\n",
            "54:\tlearn: 2668278.2012806\ttotal: 3.1s\tremaining: 2.54s\n",
            "55:\tlearn: 2660773.8340484\ttotal: 3.16s\tremaining: 2.48s\n",
            "56:\tlearn: 2656122.6217651\ttotal: 3.22s\tremaining: 2.43s\n",
            "57:\tlearn: 2649669.0116301\ttotal: 3.28s\tremaining: 2.37s\n",
            "58:\tlearn: 2645455.0703902\ttotal: 3.34s\tremaining: 2.32s\n",
            "59:\tlearn: 2639773.3030855\ttotal: 3.4s\tremaining: 2.27s\n",
            "60:\tlearn: 2634667.1747729\ttotal: 3.45s\tremaining: 2.21s\n",
            "61:\tlearn: 2632217.2492338\ttotal: 3.5s\tremaining: 2.15s\n",
            "62:\tlearn: 2627780.4940630\ttotal: 3.56s\tremaining: 2.09s\n",
            "63:\tlearn: 2622807.6931748\ttotal: 3.61s\tremaining: 2.03s\n",
            "64:\tlearn: 2617022.6583260\ttotal: 3.67s\tremaining: 1.98s\n",
            "65:\tlearn: 2612659.8386801\ttotal: 3.73s\tremaining: 1.92s\n",
            "66:\tlearn: 2609938.1429671\ttotal: 3.78s\tremaining: 1.86s\n",
            "67:\tlearn: 2604249.9685115\ttotal: 3.83s\tremaining: 1.8s\n",
            "68:\tlearn: 2601419.9749703\ttotal: 3.89s\tremaining: 1.75s\n",
            "69:\tlearn: 2598244.6855278\ttotal: 3.94s\tremaining: 1.69s\n",
            "70:\tlearn: 2595499.1142291\ttotal: 4s\tremaining: 1.63s\n",
            "71:\tlearn: 2593304.2702943\ttotal: 4.05s\tremaining: 1.57s\n",
            "72:\tlearn: 2591442.7501435\ttotal: 4.11s\tremaining: 1.52s\n",
            "73:\tlearn: 2589880.5842591\ttotal: 4.16s\tremaining: 1.46s\n",
            "74:\tlearn: 2585899.9773343\ttotal: 4.21s\tremaining: 1.4s\n",
            "75:\tlearn: 2581593.5986949\ttotal: 4.27s\tremaining: 1.35s\n",
            "76:\tlearn: 2578315.7975414\ttotal: 4.33s\tremaining: 1.29s\n",
            "77:\tlearn: 2576577.2188848\ttotal: 4.38s\tremaining: 1.24s\n",
            "78:\tlearn: 2572389.1719379\ttotal: 4.44s\tremaining: 1.18s\n",
            "79:\tlearn: 2568316.1524723\ttotal: 4.49s\tremaining: 1.12s\n",
            "80:\tlearn: 2564469.0454398\ttotal: 4.55s\tremaining: 1.07s\n",
            "81:\tlearn: 2562238.2840895\ttotal: 4.6s\tremaining: 1.01s\n",
            "82:\tlearn: 2558528.0675411\ttotal: 4.65s\tremaining: 952ms\n",
            "83:\tlearn: 2555990.2434791\ttotal: 4.72s\tremaining: 899ms\n",
            "84:\tlearn: 2549737.2459715\ttotal: 4.77s\tremaining: 842ms\n",
            "85:\tlearn: 2545237.5840543\ttotal: 4.82s\tremaining: 785ms\n",
            "86:\tlearn: 2541101.6860479\ttotal: 4.88s\tremaining: 729ms\n",
            "87:\tlearn: 2537642.5384300\ttotal: 4.93s\tremaining: 673ms\n",
            "88:\tlearn: 2533377.7995921\ttotal: 4.99s\tremaining: 616ms\n",
            "89:\tlearn: 2531361.0552064\ttotal: 5.04s\tremaining: 560ms\n",
            "90:\tlearn: 2528697.8964330\ttotal: 5.09s\tremaining: 503ms\n",
            "91:\tlearn: 2526114.7341941\ttotal: 5.14s\tremaining: 447ms\n",
            "92:\tlearn: 2522161.8436084\ttotal: 5.21s\tremaining: 392ms\n",
            "93:\tlearn: 2518043.9012949\ttotal: 5.26s\tremaining: 336ms\n",
            "94:\tlearn: 2515393.6169963\ttotal: 5.32s\tremaining: 280ms\n",
            "95:\tlearn: 2508996.1546618\ttotal: 5.38s\tremaining: 224ms\n",
            "96:\tlearn: 2507036.3103046\ttotal: 5.43s\tremaining: 168ms\n",
            "97:\tlearn: 2504398.7976171\ttotal: 5.49s\tremaining: 112ms\n",
            "98:\tlearn: 2499627.7912039\ttotal: 5.54s\tremaining: 56ms\n",
            "99:\tlearn: 2494343.4035002\ttotal: 5.59s\tremaining: 0us\n"
          ]
        },
        {
          "output_type": "execute_result",
          "data": {
            "text/plain": [
              "3019425.2325807516"
            ]
          },
          "metadata": {},
          "execution_count": 38
        }
      ]
    },
    {
      "cell_type": "code",
      "source": [
        "model_owner= CBRgrid_result.best_estimator_\n",
        "model_owner.fit(owner_train_X,owner_train_Y)\n",
        "np.sqrt(mean_squared_error(y_test,model_owner.predict(X_test)))"
      ],
      "metadata": {
        "colab": {
          "base_uri": "https://localhost:8080/"
        },
        "id": "UEJQTf-Sh3Ca",
        "outputId": "5ae564bc-689f-410b-9743-1c26cf66bd77"
      },
      "execution_count": null,
      "outputs": [
        {
          "output_type": "stream",
          "name": "stdout",
          "text": [
            "0:\tlearn: 3858286.8657026\ttotal: 44.8ms\tremaining: 4.43s\n",
            "1:\tlearn: 3613686.8677799\ttotal: 82ms\tremaining: 4.02s\n",
            "2:\tlearn: 3392881.4536722\ttotal: 118ms\tremaining: 3.82s\n",
            "3:\tlearn: 3206492.1652121\ttotal: 154ms\tremaining: 3.7s\n",
            "4:\tlearn: 3005628.5826547\ttotal: 189ms\tremaining: 3.6s\n",
            "5:\tlearn: 2851673.8726740\ttotal: 232ms\tremaining: 3.63s\n",
            "6:\tlearn: 2708185.7598191\ttotal: 278ms\tremaining: 3.7s\n",
            "7:\tlearn: 2566264.8365445\ttotal: 321ms\tremaining: 3.7s\n",
            "8:\tlearn: 2434879.6738122\ttotal: 367ms\tremaining: 3.71s\n",
            "9:\tlearn: 2331081.0495089\ttotal: 410ms\tremaining: 3.69s\n",
            "10:\tlearn: 2231504.3379635\ttotal: 450ms\tremaining: 3.64s\n",
            "11:\tlearn: 2137066.5954019\ttotal: 498ms\tremaining: 3.65s\n",
            "12:\tlearn: 2067312.3477352\ttotal: 536ms\tremaining: 3.58s\n",
            "13:\tlearn: 1997032.0492744\ttotal: 574ms\tremaining: 3.53s\n",
            "14:\tlearn: 1928729.8892213\ttotal: 612ms\tremaining: 3.46s\n",
            "15:\tlearn: 1872878.4647260\ttotal: 650ms\tremaining: 3.41s\n",
            "16:\tlearn: 1824885.9120722\ttotal: 688ms\tremaining: 3.36s\n",
            "17:\tlearn: 1784767.3891114\ttotal: 733ms\tremaining: 3.34s\n",
            "18:\tlearn: 1742764.2767258\ttotal: 777ms\tremaining: 3.31s\n",
            "19:\tlearn: 1691657.2249449\ttotal: 818ms\tremaining: 3.27s\n",
            "20:\tlearn: 1659451.7920120\ttotal: 861ms\tremaining: 3.24s\n",
            "21:\tlearn: 1623506.8114302\ttotal: 899ms\tremaining: 3.19s\n",
            "22:\tlearn: 1593837.8051476\ttotal: 939ms\tremaining: 3.14s\n",
            "23:\tlearn: 1564544.6317298\ttotal: 981ms\tremaining: 3.11s\n",
            "24:\tlearn: 1543420.7465050\ttotal: 1.02s\tremaining: 3.05s\n",
            "25:\tlearn: 1536737.8225417\ttotal: 1.05s\tremaining: 3s\n",
            "26:\tlearn: 1534198.2691457\ttotal: 1.06s\tremaining: 2.88s\n",
            "27:\tlearn: 1509450.8987234\ttotal: 1.1s\tremaining: 2.84s\n",
            "28:\tlearn: 1494894.9296353\ttotal: 1.14s\tremaining: 2.8s\n",
            "29:\tlearn: 1471626.1911624\ttotal: 1.18s\tremaining: 2.75s\n",
            "30:\tlearn: 1459247.6434364\ttotal: 1.22s\tremaining: 2.72s\n",
            "31:\tlearn: 1444646.4227563\ttotal: 1.27s\tremaining: 2.69s\n",
            "32:\tlearn: 1428414.9810676\ttotal: 1.31s\tremaining: 2.66s\n",
            "33:\tlearn: 1420300.1368447\ttotal: 1.35s\tremaining: 2.63s\n",
            "34:\tlearn: 1416265.7413650\ttotal: 1.4s\tremaining: 2.6s\n",
            "35:\tlearn: 1410301.3101294\ttotal: 1.44s\tremaining: 2.56s\n",
            "36:\tlearn: 1400284.7371447\ttotal: 1.47s\tremaining: 2.51s\n",
            "37:\tlearn: 1397144.1684985\ttotal: 1.51s\tremaining: 2.46s\n",
            "38:\tlearn: 1395417.3714258\ttotal: 1.55s\tremaining: 2.43s\n",
            "39:\tlearn: 1391902.6444319\ttotal: 1.59s\tremaining: 2.38s\n",
            "40:\tlearn: 1379599.0026967\ttotal: 1.63s\tremaining: 2.34s\n",
            "41:\tlearn: 1377826.9844919\ttotal: 1.66s\tremaining: 2.3s\n",
            "42:\tlearn: 1363834.7939357\ttotal: 1.7s\tremaining: 2.25s\n",
            "43:\tlearn: 1359323.3090990\ttotal: 1.75s\tremaining: 2.22s\n",
            "44:\tlearn: 1342857.3954136\ttotal: 1.79s\tremaining: 2.18s\n",
            "45:\tlearn: 1331981.0935867\ttotal: 1.82s\tremaining: 2.14s\n",
            "46:\tlearn: 1329673.5893641\ttotal: 1.86s\tremaining: 2.1s\n",
            "47:\tlearn: 1320241.0781512\ttotal: 1.9s\tremaining: 2.06s\n",
            "48:\tlearn: 1314223.5917209\ttotal: 1.94s\tremaining: 2.01s\n",
            "49:\tlearn: 1310972.2076973\ttotal: 1.97s\tremaining: 1.97s\n",
            "50:\tlearn: 1300559.4114185\ttotal: 2.01s\tremaining: 1.93s\n",
            "51:\tlearn: 1293232.8189133\ttotal: 2.05s\tremaining: 1.89s\n",
            "52:\tlearn: 1282524.6407591\ttotal: 2.08s\tremaining: 1.85s\n",
            "53:\tlearn: 1279997.1123436\ttotal: 2.12s\tremaining: 1.81s\n",
            "54:\tlearn: 1269519.9504512\ttotal: 2.16s\tremaining: 1.76s\n",
            "55:\tlearn: 1268013.2726059\ttotal: 2.19s\tremaining: 1.72s\n",
            "56:\tlearn: 1261414.3209547\ttotal: 2.23s\tremaining: 1.68s\n",
            "57:\tlearn: 1252023.5612167\ttotal: 2.27s\tremaining: 1.65s\n",
            "58:\tlearn: 1237607.0377418\ttotal: 2.31s\tremaining: 1.61s\n",
            "59:\tlearn: 1234933.3794172\ttotal: 2.36s\tremaining: 1.57s\n",
            "60:\tlearn: 1225636.9466384\ttotal: 2.4s\tremaining: 1.53s\n",
            "61:\tlearn: 1214523.7665029\ttotal: 2.44s\tremaining: 1.49s\n",
            "62:\tlearn: 1208151.6996602\ttotal: 2.47s\tremaining: 1.45s\n",
            "63:\tlearn: 1196382.5699122\ttotal: 2.51s\tremaining: 1.41s\n",
            "64:\tlearn: 1188307.2234308\ttotal: 2.55s\tremaining: 1.37s\n",
            "65:\tlearn: 1177683.8193440\ttotal: 2.58s\tremaining: 1.33s\n",
            "66:\tlearn: 1168424.9044633\ttotal: 2.63s\tremaining: 1.29s\n",
            "67:\tlearn: 1157676.6506523\ttotal: 2.67s\tremaining: 1.25s\n",
            "68:\tlearn: 1150863.4046760\ttotal: 2.71s\tremaining: 1.22s\n",
            "69:\tlearn: 1148838.0348219\ttotal: 2.74s\tremaining: 1.18s\n",
            "70:\tlearn: 1144140.9891701\ttotal: 2.79s\tremaining: 1.14s\n",
            "71:\tlearn: 1140783.6217752\ttotal: 2.83s\tremaining: 1.1s\n",
            "72:\tlearn: 1132825.2804402\ttotal: 2.86s\tremaining: 1.06s\n",
            "73:\tlearn: 1128855.0888533\ttotal: 2.9s\tremaining: 1.02s\n",
            "74:\tlearn: 1127317.5180586\ttotal: 2.94s\tremaining: 980ms\n",
            "75:\tlearn: 1119945.0999392\ttotal: 2.98s\tremaining: 940ms\n",
            "76:\tlearn: 1114403.5459165\ttotal: 3.01s\tremaining: 900ms\n",
            "77:\tlearn: 1111707.8021489\ttotal: 3.05s\tremaining: 860ms\n",
            "78:\tlearn: 1110792.3654865\ttotal: 3.08s\tremaining: 819ms\n",
            "79:\tlearn: 1104257.7894854\ttotal: 3.12s\tremaining: 779ms\n",
            "80:\tlearn: 1096120.1990473\ttotal: 3.16s\tremaining: 741ms\n",
            "81:\tlearn: 1090991.2141798\ttotal: 3.2s\tremaining: 702ms\n",
            "82:\tlearn: 1090272.4291811\ttotal: 3.24s\tremaining: 663ms\n",
            "83:\tlearn: 1085095.9592161\ttotal: 3.28s\tremaining: 624ms\n",
            "84:\tlearn: 1081738.2371313\ttotal: 3.32s\tremaining: 586ms\n",
            "85:\tlearn: 1079144.4273595\ttotal: 3.36s\tremaining: 547ms\n",
            "86:\tlearn: 1072557.3392831\ttotal: 3.4s\tremaining: 508ms\n",
            "87:\tlearn: 1069191.3739926\ttotal: 3.44s\tremaining: 469ms\n",
            "88:\tlearn: 1065094.7760292\ttotal: 3.48s\tremaining: 430ms\n",
            "89:\tlearn: 1059427.5594259\ttotal: 3.51s\tremaining: 390ms\n",
            "90:\tlearn: 1056474.1884487\ttotal: 3.54s\tremaining: 351ms\n",
            "91:\tlearn: 1055664.4309981\ttotal: 3.58s\tremaining: 311ms\n",
            "92:\tlearn: 1051619.4473876\ttotal: 3.62s\tremaining: 272ms\n",
            "93:\tlearn: 1045763.7560891\ttotal: 3.65s\tremaining: 233ms\n",
            "94:\tlearn: 1041752.6132817\ttotal: 3.69s\tremaining: 194ms\n",
            "95:\tlearn: 1036272.0517829\ttotal: 3.73s\tremaining: 155ms\n",
            "96:\tlearn: 1033393.8551828\ttotal: 3.77s\tremaining: 117ms\n",
            "97:\tlearn: 1029548.6230195\ttotal: 3.81s\tremaining: 77.7ms\n",
            "98:\tlearn: 1027625.3410896\ttotal: 3.85s\tremaining: 38.9ms\n",
            "99:\tlearn: 1024881.8006986\ttotal: 3.88s\tremaining: 0us\n"
          ]
        },
        {
          "output_type": "execute_result",
          "data": {
            "text/plain": [
              "3227451.0354067907"
            ]
          },
          "metadata": {},
          "execution_count": 39
        }
      ]
    },
    {
      "cell_type": "markdown",
      "metadata": {
        "id": "J8t-klaK2A6s"
      },
      "source": [
        "### (*) Ensemble v.2 (дополнительно, 2 балла)\n",
        "\n",
        "Попробуйте сделать для `Investment` более сложную модель: обучите `CatBoostRegressor` и `HuberRegressor` из `sklearn`, а затем сложите их предсказания с весами `w_1` и `w_2` (выберите веса сами; сумма весов равняется 1)."
      ]
    },
    {
      "cell_type": "code",
      "metadata": {
        "id": "JOKD-l8HuOgM"
      },
      "source": [
        "from sklearn.linear_model import HuberRegressor"
      ],
      "execution_count": null,
      "outputs": []
    },
    {
      "cell_type": "code",
      "source": [
        "w1 = 0.9\n",
        "w2 = 1 - w1"
      ],
      "metadata": {
        "id": "Z-VicBKblq6l"
      },
      "execution_count": null,
      "outputs": []
    },
    {
      "cell_type": "code",
      "source": [
        "huber_model= HuberRegressor()\n",
        "huber_model.fit(invest_train_X, invest_train_Y)\n",
        "np.sqrt(mean_squared_error(y_test,model_invest.predict(X_test)*w1 + huber_model.predict(X_test)*w2))"
      ],
      "metadata": {
        "colab": {
          "base_uri": "https://localhost:8080/"
        },
        "id": "oKgIS-0-lzJP",
        "outputId": "30758ac1-b4fc-42fc-d5a2-52e930f3965f"
      },
      "execution_count": null,
      "outputs": [
        {
          "output_type": "stream",
          "name": "stderr",
          "text": [
            "/usr/local/lib/python3.7/dist-packages/sklearn/linear_model/_huber.py:332: ConvergenceWarning: lbfgs failed to converge (status=1):\n",
            "STOP: TOTAL NO. of ITERATIONS REACHED LIMIT.\n",
            "\n",
            "Increase the number of iterations (max_iter) or scale the data as shown in:\n",
            "    https://scikit-learn.org/stable/modules/preprocessing.html\n",
            "  self.n_iter_ = _check_optimize_result(\"lbfgs\", opt_res, self.max_iter)\n"
          ]
        },
        {
          "output_type": "execute_result",
          "data": {
            "text/plain": [
              "3189966.22232641"
            ]
          },
          "metadata": {},
          "execution_count": 42
        }
      ]
    },
    {
      "cell_type": "markdown",
      "source": [
        "Результат улучшен, по сравнению с ансамблем, но проигрывает кэтбусту\n"
      ],
      "metadata": {
        "id": "JfcxcHbtLVrD"
      }
    }
  ]
}